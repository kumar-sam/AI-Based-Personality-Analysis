{
  "nbformat": 4,
  "nbformat_minor": 0,
  "metadata": {
    "colab": {
      "name": "End_to_End_Auto-Evaluation.ipynb",
      "provenance": [],
      "collapsed_sections": [],
      "toc_visible": true
    },
    "kernelspec": {
      "name": "python3",
      "display_name": "Python 3"
    }
  },
  "cells": [
    {
      "cell_type": "markdown",
      "metadata": {
        "id": "liIk8f980xT5"
      },
      "source": [
        "# Sentence Embeddings using Siamese BERT-Networks\n",
        "---\n",
        "\n"
      ]
    },
    {
      "cell_type": "markdown",
      "metadata": {
        "id": "bzljhyTQEZds"
      },
      "source": [
        "## Install Sentence Transformer Library"
      ]
    },
    {
      "cell_type": "code",
      "metadata": {
        "id": "AmxRYxNDvn6y",
        "colab": {
          "base_uri": "https://localhost:8080/"
        },
        "outputId": "76744dec-e005-458d-980a-ba47d014cc10"
      },
      "source": [
        "# Install the library using pip\n",
        "!pip install sentence-transformers"
      ],
      "execution_count": 3,
      "outputs": [
        {
          "output_type": "stream",
          "text": [
            "Collecting sentence-transformers\n",
            "\u001b[?25l  Downloading https://files.pythonhosted.org/packages/f5/5a/6e41e8383913dd2ba923cdcd02be2e03911595f4d2f9de559ecbed80d2d3/sentence-transformers-0.3.9.tar.gz (64kB)\n",
            "\u001b[K     |████████████████████████████████| 71kB 3.6MB/s \n",
            "\u001b[?25hCollecting transformers<3.6.0,>=3.1.0\n",
            "\u001b[?25l  Downloading https://files.pythonhosted.org/packages/3a/83/e74092e7f24a08d751aa59b37a9fc572b2e4af3918cb66f7766c3affb1b4/transformers-3.5.1-py3-none-any.whl (1.3MB)\n",
            "\u001b[K     |████████████████████████████████| 1.3MB 7.5MB/s \n",
            "\u001b[?25hRequirement already satisfied: tqdm in /usr/local/lib/python3.6/dist-packages (from sentence-transformers) (4.41.1)\n",
            "Requirement already satisfied: torch>=1.6.0 in /usr/local/lib/python3.6/dist-packages (from sentence-transformers) (1.7.0+cu101)\n",
            "Requirement already satisfied: numpy in /usr/local/lib/python3.6/dist-packages (from sentence-transformers) (1.18.5)\n",
            "Requirement already satisfied: scikit-learn in /usr/local/lib/python3.6/dist-packages (from sentence-transformers) (0.22.2.post1)\n",
            "Requirement already satisfied: scipy in /usr/local/lib/python3.6/dist-packages (from sentence-transformers) (1.4.1)\n",
            "Requirement already satisfied: nltk in /usr/local/lib/python3.6/dist-packages (from sentence-transformers) (3.2.5)\n",
            "Requirement already satisfied: packaging in /usr/local/lib/python3.6/dist-packages (from transformers<3.6.0,>=3.1.0->sentence-transformers) (20.7)\n",
            "Collecting sentencepiece==0.1.91\n",
            "\u001b[?25l  Downloading https://files.pythonhosted.org/packages/d4/a4/d0a884c4300004a78cca907a6ff9a5e9fe4f090f5d95ab341c53d28cbc58/sentencepiece-0.1.91-cp36-cp36m-manylinux1_x86_64.whl (1.1MB)\n",
            "\u001b[K     |████████████████████████████████| 1.1MB 46.3MB/s \n",
            "\u001b[?25hRequirement already satisfied: requests in /usr/local/lib/python3.6/dist-packages (from transformers<3.6.0,>=3.1.0->sentence-transformers) (2.23.0)\n",
            "Requirement already satisfied: protobuf in /usr/local/lib/python3.6/dist-packages (from transformers<3.6.0,>=3.1.0->sentence-transformers) (3.12.4)\n",
            "Collecting tokenizers==0.9.3\n",
            "\u001b[?25l  Downloading https://files.pythonhosted.org/packages/4c/34/b39eb9994bc3c999270b69c9eea40ecc6f0e97991dba28282b9fd32d44ee/tokenizers-0.9.3-cp36-cp36m-manylinux1_x86_64.whl (2.9MB)\n",
            "\u001b[K     |████████████████████████████████| 2.9MB 43.4MB/s \n",
            "\u001b[?25hRequirement already satisfied: filelock in /usr/local/lib/python3.6/dist-packages (from transformers<3.6.0,>=3.1.0->sentence-transformers) (3.0.12)\n",
            "Requirement already satisfied: regex!=2019.12.17 in /usr/local/lib/python3.6/dist-packages (from transformers<3.6.0,>=3.1.0->sentence-transformers) (2019.12.20)\n",
            "Collecting sacremoses\n",
            "\u001b[?25l  Downloading https://files.pythonhosted.org/packages/7d/34/09d19aff26edcc8eb2a01bed8e98f13a1537005d31e95233fd48216eed10/sacremoses-0.0.43.tar.gz (883kB)\n",
            "\u001b[K     |████████████████████████████████| 890kB 25.3MB/s \n",
            "\u001b[?25hRequirement already satisfied: dataclasses; python_version < \"3.7\" in /usr/local/lib/python3.6/dist-packages (from transformers<3.6.0,>=3.1.0->sentence-transformers) (0.8)\n",
            "Requirement already satisfied: future in /usr/local/lib/python3.6/dist-packages (from torch>=1.6.0->sentence-transformers) (0.16.0)\n",
            "Requirement already satisfied: typing-extensions in /usr/local/lib/python3.6/dist-packages (from torch>=1.6.0->sentence-transformers) (3.7.4.3)\n",
            "Requirement already satisfied: joblib>=0.11 in /usr/local/lib/python3.6/dist-packages (from scikit-learn->sentence-transformers) (0.17.0)\n",
            "Requirement already satisfied: six in /usr/local/lib/python3.6/dist-packages (from nltk->sentence-transformers) (1.15.0)\n",
            "Requirement already satisfied: pyparsing>=2.0.2 in /usr/local/lib/python3.6/dist-packages (from packaging->transformers<3.6.0,>=3.1.0->sentence-transformers) (2.4.7)\n",
            "Requirement already satisfied: idna<3,>=2.5 in /usr/local/lib/python3.6/dist-packages (from requests->transformers<3.6.0,>=3.1.0->sentence-transformers) (2.10)\n",
            "Requirement already satisfied: urllib3!=1.25.0,!=1.25.1,<1.26,>=1.21.1 in /usr/local/lib/python3.6/dist-packages (from requests->transformers<3.6.0,>=3.1.0->sentence-transformers) (1.24.3)\n",
            "Requirement already satisfied: chardet<4,>=3.0.2 in /usr/local/lib/python3.6/dist-packages (from requests->transformers<3.6.0,>=3.1.0->sentence-transformers) (3.0.4)\n",
            "Requirement already satisfied: certifi>=2017.4.17 in /usr/local/lib/python3.6/dist-packages (from requests->transformers<3.6.0,>=3.1.0->sentence-transformers) (2020.12.5)\n",
            "Requirement already satisfied: setuptools in /usr/local/lib/python3.6/dist-packages (from protobuf->transformers<3.6.0,>=3.1.0->sentence-transformers) (50.3.2)\n",
            "Requirement already satisfied: click in /usr/local/lib/python3.6/dist-packages (from sacremoses->transformers<3.6.0,>=3.1.0->sentence-transformers) (7.1.2)\n",
            "Building wheels for collected packages: sentence-transformers, sacremoses\n",
            "  Building wheel for sentence-transformers (setup.py) ... \u001b[?25l\u001b[?25hdone\n",
            "  Created wheel for sentence-transformers: filename=sentence_transformers-0.3.9-cp36-none-any.whl size=101034 sha256=2b631f0105d9532a0dca3118c860218374ef6c2e178c397c385c7b7160696f6d\n",
            "  Stored in directory: /root/.cache/pip/wheels/fc/89/43/f2f5bc00b03ef9724b0f6254a97eaf159a4c4ddc024b33e07a\n",
            "  Building wheel for sacremoses (setup.py) ... \u001b[?25l\u001b[?25hdone\n",
            "  Created wheel for sacremoses: filename=sacremoses-0.0.43-cp36-none-any.whl size=893261 sha256=5782fc3806f57c984e7c1f179f523a2ca17bcf4c2a2ac0c86d97e52a29648b4a\n",
            "  Stored in directory: /root/.cache/pip/wheels/29/3c/fd/7ce5c3f0666dab31a50123635e6fb5e19ceb42ce38d4e58f45\n",
            "Successfully built sentence-transformers sacremoses\n",
            "Installing collected packages: sentencepiece, tokenizers, sacremoses, transformers, sentence-transformers\n",
            "Successfully installed sacremoses-0.0.43 sentence-transformers-0.3.9 sentencepiece-0.1.91 tokenizers-0.9.3 transformers-3.5.1\n"
          ],
          "name": "stdout"
        }
      ]
    },
    {
      "cell_type": "markdown",
      "metadata": {
        "id": "eIAKz6KVEndZ"
      },
      "source": [
        "## Load the BERT Model"
      ]
    },
    {
      "cell_type": "code",
      "metadata": {
        "id": "5IO_j2Ofv5pq"
      },
      "source": [
        "from sentence_transformers import SentenceTransformer\n",
        "\n",
        "# Load the BERT model. Various models trained on Natural Language Inference (NLI) https://github.com/UKPLab/sentence-transformers/blob/master/docs/pretrained-models/nli-models.md and \n",
        "# Semantic Textual Similarity are available https://github.com/UKPLab/sentence-transformers/blob/master/docs/pretrained-models/sts-models.md\n",
        "\n",
        "model = SentenceTransformer('bert-large-nli-stsb-mean-tokens')"
      ],
      "execution_count": 76,
      "outputs": []
    },
    {
      "cell_type": "markdown",
      "metadata": {
        "id": "I7_Ib3ITEwgO"
      },
      "source": [
        "## Setup a Corpus"
      ]
    },
    {
      "cell_type": "code",
      "metadata": {
        "id": "nCCX00BG2c_B"
      },
      "source": [
        "# What-is-machine-learning?\n",
        "sentences_machine_learning = [\n",
        "                          \n",
        "  'Suggested: Machine Learning (ML) can be explained as automating and improving the learning process of computers based on their experiences without being actually programmed i.e. without any human assistance. The process starts with feeding good quality data and then training our machines(computers) by building machine learning models using the data and different algorithms. The choice of algorithms depends on what type of data do we have and what kind of task we are trying to automate. Machine learning involves computers discovering how they can perform tasks without being explicitly programmed to do so. It involves computers learning from data provided so that they carry out certain tasks. For simple tasks assigned to computers, it is possible to program algorithms telling the machine how to execute all steps required to solve the problem at hand; on the computers part, no learning is needed. For more advanced tasks, it can be challenging for a human to manually create the needed algorithms. In practice, it can turn out to be more effective to help the machine develop its own algorithm, rather than having human programmers specify every needed step.',\n",
        "   #corrrect\n",
        "  'Machine Learning is the science of getting computers to learn and act like humans do, and improve their learning over time in autonomous fashion, by feeding them data and information in the form of observations and real-world interactions.',\n",
        "  'Machine Learning is a sub-area of artificial intelligence, whereby the term refers to the ability of IT systems to independently find solutions to problems by recognizing patterns in databases. In other words: Machine Learning enables IT systems to recognize patterns on the basis of existing algorithms and data sets and to develop adequate solution concepts.',\n",
        "  'Think of ML as a recipe to learn an algorithm. The recipe is: Learn from past experience of tasks Continue to carry out tasks Raise performance with each experience gained How to raise performance with increasing experience is the algorithm it teaches itself with the help of the recipe. A machine is said to learn if and only if it increases it is performance with each gaining experience',\n",
        "  'Machine learning is a method of data analysis that automates analytical model building. It is a branch of artificial intelligence based on the idea that systems can learn from data, identify patterns and make decisions with minimal human intervention. Because of new computing technologies, machine learning today is not like machine learning of the past. It was born from pattern recognition and the theory that computers can learn without being programmed to perform specific tasks; researchers interested in artificial intelligence wanted to see if computers could learn from data. ',\n",
        "  'Machine learning invariably refers to a family of mathematical techniques and computational algorithms used to ‘learn’ from ‘data’. There are several terms that deserve an amplification. Data. It’s impossible to provide an axiomatic definition to the term data. The term information may be used as a synonym for data but again, that doesn’t say very much (circular arguments never got me very far.) You may think of data as a spreadsheet, a collection of pictures, audio recording, collection of videos, data residing in bank’s credit-card transactions database, the bytes on your hard-disk and so on.',\n",
        "  'Machine Learning is actually a game of data. If you can play with data then you can master Machine Learning. For Example, if you have spent your childhood in some city say Kolkata then it must be obvious that you know all the places in Kolkata. Now if someone asks you about places in Kolkata then you will be able to answer him/her with the maximum confidence that you have. Relating this example I can say that the experiences of your childhood was the training process (training data) with which you have learned and the person who was asking you was testing on you (test data) and your answer was checked if it was right or wrong in percentage(accuracy rate).',\n",
        "  'Is a process of enabling a computer based system to learn to do tasks based on well defined statistical and mathematical methods The ability to do the tasks come from the underlying model which is the result of the learning process. Sometimes the ability comes from an mathematical algorithm The model generated represents behavior of the processes that were earlier performed before machine learning The model is generated from huge volume of data, huge both in breadth and depth reflecting the real world in which the processes are performed The more representative data is of the real world, the better the model would be. The challenge is how to make it a true representative',\n",
        "  'Machine Learning is the science of getting computers to learn and act like humans do, and improve their learning over time in autonomous fashion, by feeding them data and information in the form of observations and real-world interactions.',\n",
        "  'Machine learning is the art and science to making dumb computers really smart at predicting things and taking necessary step to induce a positive outcome. In simple words you feed some data to the machine along with the results and it learns the pattern in the input variables that led to those specific outcomes, and hence apply these learnings to input data for which we may not know the outcome. This is a very specific type of learning it called supervised learning.',\n",
        "  'It is how you make computer programs learn something meaningful from data given to it without being explicitly programmed for it. Behind the scenes, it is clever maths that ensures that program converges to a point where it can be safely assumed that program has accurately understood the relationship that input data may hold within. The premise is that a set of inputs samples (corresponding to a given phenomenon) may hold some some hidden pattern which otherwise is unnoticeable by humans. And in case there truly is no pattern in the input data, maths ensures that program never converges or converges poorly.',\n",
        "  #Related\n",
        "  'Natural Language Processing (aka NLP) is a field of Artificial Intelligence focused on the ability of the machines to comprehend language and interpret messages. In more strict business terms, NLP can be characterized as: a set of algorithms designed to explore, recognize and utilize text-based information and identify insights for the benefit of the business operation As such, natural language processing and generation algorithms form a backbone for the majority of computerized processes.',\n",
        "  'Natural language processing (NLP) describes the interaction between human language and computers. It is a technology that many people use daily and has been around for years, but is often taken for granted. Some aspects of NLP include text-to-speech or speech-to-text conversion; machine translation from one language to another; categorizing, indexing, and summarizing written documents; and identifying mood and opinions within text- and voice-based data.',\n",
        "  'NLP is the process of producing meaningful phrases and sentences in the form of natural language. It is the subfield of artificial intelligence and has great importance in the field of machine learning. It is related to human-computer interaction and helps computers to understand, interpret and manipulate human language. NLP eliminated communication barriers between humans and computers by translating machine language into human language. Today natural language processing is a widely used technology.',\n",
        "  'Artificial intelligence aims at making expert systems. Expert system are like what we human do, we predict an outcome based on the judgement which is collected through sensors and acted upon by effectors. Now these are terminologies commonly used say you are watching Netflix. It senses the genre you are interested in by firstly asking the preference and then mapping it to similar series you watch and here effectors are the movie choice cards that are displayed.',\n",
        "  'Artificial Intelligence is one of the most talked technologies these days. No business is left untouched from this advanced technology. From automated cars to conversational chatbots, AI has made our lives a lot simpler and automated. The usage and implementation of AI is being explored in almost all industry verticals, in simpler words, AI is everywhere and ruling the technological world, and with this, there is tremendous growth in the demand for AI development companies',\n",
        "  'Artificial intelligence is the theory and development of computer systems able to perform tasks normally requiring human intelligence, such as visual perception, speech recognition, decision-making, and translation between languages. It’s a fast-paced and challenging field that is making visible inroads into our everyday life. Natural language processing of the type used in smartphones or Google Translate has become commonplace.',\n",
        "  'Tensorflow develops a “computational graph” object that represents the expression. A “session” object actually runs the graph, calculating the output of the expression, calculating gradients, and performing a variety of gradient-related operations. The key thing to observe is that a Tensorflow tensor (at the Python level) is not itself an array of numbers. It is an object that will eventually correspond to such an array once it is run through a session. ',\n",
        "  'Python is a general-purpose interpreted, interactive, object-oriented, and high-level programming language. It supports functional and structured programming methods as well as OOP. It can be used as a scripting language or can be compiled to byte-code for building large applications.',\n",
        "  'As a statistician I’ve used both effectively. I’ve also sometimes used a #2 pencil and a sheet of paper to solve stat problems (I prefer Blackwing pencils, they are far superior over any other pencil…let’s get that controversy going). Sometimes I’ve used ggplot in R to create dramatic visualizations, but I’ve also used colored pens and a napkin to illustrate a point effectively over a beer to a colleague. I’ve used Python effectively to extract data from the ‘net but I’ve also hand entered data for analysis.',\n",
        "  'This is one of the most popular libraries for deep learning. I like it because of its clean design, and its quite intuitive. It is not something like Keras, you actually have to write more code, but at the same time you can do more fine adjusting than in Keras, maybe not much more because most things can be done in both, but its simpler to do in Pytorch.',\n",
        "  #Unrelated\n",
        "  'The University of Oxford (legally The Chancellor, Masters and Scholars of the University of Oxford) is a collegiate research university in Oxford, Oxfordshire, England. There is evidence of teaching as early as 1096,[2] making it the oldest university in the English-speaking world, the worlds second-oldest university in continuous operation and one of the most prestigious academic institutions in the world.[2][10][11] It grew rapidly from 1167 when Henry II banned English students from attending the University of Paris.[2] After disputes between students and Oxford townsfolk in 1209, some academics fled north-east to Cambridge where they established what became the University of Cambridge.[12] The two English ancient universities share many common features and are often jointly called Oxbridge.',\n",
        "  'Students successful in early examinations are rewarded by their colleges with scholarships and exhibitions, normally the result of a long-standing endowment, although since the introduction of tuition fees the amounts of money available are purely nominal. Scholars, and exhibitioners in some colleges, are entitled to wear a more voluminous undergraduate gown; \"commoners\" (originally those who had to pay for their \"commons\", or food and lodging) are restricted to a short, sleeveless garment. The term \"scholar\" in relation to Oxford therefore has a specific meaning as well as the more general meaning of someone of outstanding academic ability. In previous times, there were \"noblemen commoners\" and \"gentlemen commoners\", but these ranks were abolished in the 19th century. \"Closed\" scholarships, available only to candidates who fitted specific conditions such as coming from specific schools, ',\n",
        "  'Political science is a social study concerning the allocation and transfer of power in decision making, the roles and systems of governance including governments and international organizations, political behaviour and public policies. They measure the success of governance and specific policies by examining many factors, including stability, justice, material wealth, peace and public health. Some political scientists seek to advance positive (attempt to describe how things are, as opposed to how they should be) theses by analysing politics. Others advance normative theses, by making specific policy recommendations. The study of politics and policies can be closely connected, for example in comparative analyses of which types of political institutions tend to produce certain types of policies.[6]',\n",
        "  'Gandhi became a leading figure in the Indian home-rule movement. Calling for mass boycotts, he urged government officials to stop working for the Crown, students to stop attending government schools, soldiers to leave their posts and citizens to stop paying taxes and purchasing British goods.',\n",
        "  'Electricity is all around us--powering technology like our cell phones, computers, lights, soldering irons, and air conditioners. It is tough to escape it in our modern world. Even when you try to escape electricity, it is still at work throughout nature, from the lightning in a thunderstorm to the synapses inside our body. But what exactly is electricity? This is a very complicated question, and as you dig deeper and ask more questions, there really is not a definitive answer, only abstract representations of how electricity interacts with our surroundings.',\n",
        "  \n",
        "\n",
        "]"
      ],
      "execution_count": 23,
      "outputs": []
    },
    {
      "cell_type": "code",
      "metadata": {
        "id": "NBQkPVOCwsAK"
      },
      "source": [
        "# # What is an Asset?\n",
        "# sentences_machine_learning = [\n",
        "                          \n",
        "#   'Suggested: Machine Learning (ML) can be explained as automating and improving the learning process of computers based on their experiences without being actually programmed i.e. without any human assistance. The process starts with feeding good quality data and then training our machines(computers) by building machine learning models using the data and different algorithms. The choice of algorithms depends on what type of data do we have and what kind of task we are trying to automate. Machine learning involves computers discovering how they can perform tasks without being explicitly programmed to do so. It involves computers learning from data provided so that they carry out certain tasks. For simple tasks assigned to computers, it is possible to program algorithms telling the machine how to execute all steps required to solve the problem at hand; on the computers part, no learning is needed. For more advanced tasks, it can be challenging for a human to manually create the needed algorithms. In practice, it can turn out to be more effective to help the machine develop its own algorithm, rather than having human programmers specify every needed step.',\n",
        "#    #corrrect\n",
        "#   'Machine Learning is the science of getting computers to learn and act like humans do, and improve their learning over time in autonomous fashion, by feeding them data and information in the form of observations and real-world interactions.',\n",
        "#   'Machine Learning is a sub-area of artificial intelligence, whereby the term refers to the ability of IT systems to independently find solutions to problems by recognizing patterns in databases. In other words: Machine Learning enables IT systems to recognize patterns on the basis of existing algorithms and data sets and to develop adequate solution concepts.',\n",
        "#   'Think of ML as a recipe to learn an algorithm. The recipe is: Learn from past experience of tasks Continue to carry out tasks Raise performance with each experience gained How to raise performance with increasing experience is the algorithm it teaches itself with the help of the recipe. A machine is said to learn if and only if it increases it is performance with each gaining experience',\n",
        "#   'Machine learning is a method of data analysis that automates analytical model building. It is a branch of artificial intelligence based on the idea that systems can learn from data, identify patterns and make decisions with minimal human intervention. Because of new computing technologies, machine learning today is not like machine learning of the past. It was born from pattern recognition and the theory that computers can learn without being programmed to perform specific tasks; researchers interested in artificial intelligence wanted to see if computers could learn from data. ',\n",
        "#   'Machine learning invariably refers to a family of mathematical techniques and computational algorithms used to ‘learn’ from ‘data’. There are several terms that deserve an amplification. Data. It’s impossible to provide an axiomatic definition to the term data. The term information may be used as a synonym for data but again, that doesn’t say very much (circular arguments never got me very far.) You may think of data as a spreadsheet, a collection of pictures, audio recording, collection of videos, data residing in bank’s credit-card transactions database, the bytes on your hard-disk and so on.',\n",
        "#   'Machine Learning is actually a game of data. If you can play with data then you can master Machine Learning. For Example, if you have spent your childhood in some city say Kolkata then it must be obvious that you know all the places in Kolkata. Now if someone asks you about places in Kolkata then you will be able to answer him/her with the maximum confidence that you have. Relating this example I can say that the experiences of your childhood was the training process (training data) with which you have learned and the person who was asking you was testing on you (test data) and your answer was checked if it was right or wrong in percentage(accuracy rate).',\n",
        "#   'Is a process of enabling a computer based system to learn to do tasks based on well defined statistical and mathematical methods The ability to do the tasks come from the underlying model which is the result of the learning process. Sometimes the ability comes from an mathematical algorithm The model generated represents behavior of the processes that were earlier performed before machine learning The model is generated from huge volume of data, huge both in breadth and depth reflecting the real world in which the processes are performed The more representative data is of the real world, the better the model would be. The challenge is how to make it a true representative',\n",
        "#   'Machine Learning is the science of getting computers to learn and act like humans do, and improve their learning over time in autonomous fashion, by feeding them data and information in the form of observations and real-world interactions.',\n",
        "#   'Machine learning is the art and science to making dumb computers really smart at predicting things and taking necessary step to induce a positive outcome. In simple words you feed some data to the machine along with the results and it learns the pattern in the input variables that led to those specific outcomes, and hence apply these learnings to input data for which we may not know the outcome. This is a very specific type of learning it called supervised learning.',\n",
        "#   'It is how you make computer programs learn something meaningful from data given to it without being explicitly programmed for it. Behind the scenes, it is clever maths that ensures that program converges to a point where it can be safely assumed that program has accurately understood the relationship that input data may hold within. The premise is that a set of inputs samples (corresponding to a given phenomenon) may hold some some hidden pattern which otherwise is unnoticeable by humans. And in case there truly is no pattern in the input data, maths ensures that program never converges or converges poorly.',\n",
        "#   #Related\n",
        "#   'Natural Language Processing (aka NLP) is a field of Artificial Intelligence focused on the ability of the machines to comprehend language and interpret messages. In more strict business terms, NLP can be characterized as: a set of algorithms designed to explore, recognize and utilize text-based information and identify insights for the benefit of the business operation As such, natural language processing and generation algorithms form a backbone for the majority of computerized processes.',\n",
        "#   'Natural language processing (NLP) describes the interaction between human language and computers. It is a technology that many people use daily and has been around for years, but is often taken for granted. Some aspects of NLP include text-to-speech or speech-to-text conversion; machine translation from one language to another; categorizing, indexing, and summarizing written documents; and identifying mood and opinions within text- and voice-based data.',\n",
        "#   'NLP is the process of producing meaningful phrases and sentences in the form of natural language. It is the subfield of artificial intelligence and has great importance in the field of machine learning. It is related to human-computer interaction and helps computers to understand, interpret and manipulate human language. NLP eliminated communication barriers between humans and computers by translating machine language into human language. Today natural language processing is a widely used technology.',\n",
        "#   'Artificial intelligence aims at making expert systems. Expert system are like what we human do, we predict an outcome based on the judgement which is collected through sensors and acted upon by effectors. Now these are terminologies commonly used say you are watching Netflix. It senses the genre you are interested in by firstly asking the preference and then mapping it to similar series you watch and here effectors are the movie choice cards that are displayed.',\n",
        "#   'Artificial Intelligence is one of the most talked technologies these days. No business is left untouched from this advanced technology. From automated cars to conversational chatbots, AI has made our lives a lot simpler and automated. The usage and implementation of AI is being explored in almost all industry verticals, in simpler words, AI is everywhere and ruling the technological world, and with this, there is tremendous growth in the demand for AI development companies',\n",
        "#   'Artificial intelligence is the theory and development of computer systems able to perform tasks normally requiring human intelligence, such as visual perception, speech recognition, decision-making, and translation between languages. It’s a fast-paced and challenging field that is making visible inroads into our everyday life. Natural language processing of the type used in smartphones or Google Translate has become commonplace.',\n",
        "#   'Tensorflow develops a “computational graph” object that represents the expression. A “session” object actually runs the graph, calculating the output of the expression, calculating gradients, and performing a variety of gradient-related operations. The key thing to observe is that a Tensorflow tensor (at the Python level) is not itself an array of numbers. It is an object that will eventually correspond to such an array once it is run through a session. ',\n",
        "#   'Python is a general-purpose interpreted, interactive, object-oriented, and high-level programming language. It supports functional and structured programming methods as well as OOP. It can be used as a scripting language or can be compiled to byte-code for building large applications.',\n",
        "#   'As a statistician I’ve used both effectively. I’ve also sometimes used a #2 pencil and a sheet of paper to solve stat problems (I prefer Blackwing pencils, they are far superior over any other pencil…let’s get that controversy going). Sometimes I’ve used ggplot in R to create dramatic visualizations, but I’ve also used colored pens and a napkin to illustrate a point effectively over a beer to a colleague. I’ve used Python effectively to extract data from the ‘net but I’ve also hand entered data for analysis.',\n",
        "#   'This is one of the most popular libraries for deep learning. I like it because of its clean design, and its quite intuitive. It is not something like Keras, you actually have to write more code, but at the same time you can do more fine adjusting than in Keras, maybe not much more because most things can be done in both, but its simpler to do in Pytorch.',\n",
        "#   #Unrelated\n",
        "#   'The University of Oxford (legally The Chancellor, Masters and Scholars of the University of Oxford) is a collegiate research university in Oxford, Oxfordshire, England. There is evidence of teaching as early as 1096,[2] making it the oldest university in the English-speaking world, the worlds second-oldest university in continuous operation and one of the most prestigious academic institutions in the world.[2][10][11] It grew rapidly from 1167 when Henry II banned English students from attending the University of Paris.[2] After disputes between students and Oxford townsfolk in 1209, some academics fled north-east to Cambridge where they established what became the University of Cambridge.[12] The two English ancient universities share many common features and are often jointly called Oxbridge.',\n",
        "#   'Students successful in early examinations are rewarded by their colleges with scholarships and exhibitions, normally the result of a long-standing endowment, although since the introduction of tuition fees the amounts of money available are purely nominal. Scholars, and exhibitioners in some colleges, are entitled to wear a more voluminous undergraduate gown; \"commoners\" (originally those who had to pay for their \"commons\", or food and lodging) are restricted to a short, sleeveless garment. The term \"scholar\" in relation to Oxford therefore has a specific meaning as well as the more general meaning of someone of outstanding academic ability. In previous times, there were \"noblemen commoners\" and \"gentlemen commoners\", but these ranks were abolished in the 19th century. \"Closed\" scholarships, available only to candidates who fitted specific conditions such as coming from specific schools, ',\n",
        "#   'Political science is a social study concerning the allocation and transfer of power in decision making, the roles and systems of governance including governments and international organizations, political behaviour and public policies. They measure the success of governance and specific policies by examining many factors, including stability, justice, material wealth, peace and public health. Some political scientists seek to advance positive (attempt to describe how things are, as opposed to how they should be) theses by analysing politics. Others advance normative theses, by making specific policy recommendations. The study of politics and policies can be closely connected, for example in comparative analyses of which types of political institutions tend to produce certain types of policies.[6]',\n",
        "#   'Gandhi became a leading figure in the Indian home-rule movement. Calling for mass boycotts, he urged government officials to stop working for the Crown, students to stop attending government schools, soldiers to leave their posts and citizens to stop paying taxes and purchasing British goods.',\n",
        "#   'Electricity is all around us--powering technology like our cell phones, computers, lights, soldering irons, and air conditioners. It is tough to escape it in our modern world. Even when you try to escape electricity, it is still at work throughout nature, from the lightning in a thunderstorm to the synapses inside our body. But what exactly is electricity? This is a very complicated question, and as you dig deeper and ask more questions, there really is not a definitive answer, only abstract representations of how electricity interacts with our surroundings.',\n",
        "  \n",
        "\n",
        "# ]"
      ],
      "execution_count": 24,
      "outputs": []
    },
    {
      "cell_type": "code",
      "metadata": {
        "colab": {
          "base_uri": "https://localhost:8080/"
        },
        "id": "bAByQLlTA-El",
        "outputId": "683c5fcd-ce57-4247-d6aa-01cac5a51c7f"
      },
      "source": [
        "len(sentences_machine_learning)"
      ],
      "execution_count": 25,
      "outputs": [
        {
          "output_type": "execute_result",
          "data": {
            "text/plain": [
              "26"
            ]
          },
          "metadata": {
            "tags": []
          },
          "execution_count": 25
        }
      ]
    },
    {
      "cell_type": "code",
      "metadata": {
        "id": "6CzrPZlwElAg"
      },
      "source": [
        "# Each sentence is encoded as a 1-D vector with 78 columns\n",
        "sentence_embeddings_machine_learning = model.encode(sentences_machine_learning)"
      ],
      "execution_count": 26,
      "outputs": []
    },
    {
      "cell_type": "code",
      "metadata": {
        "id": "Qp2WU0nnEnaN"
      },
      "source": [
        "#cosine similarity - SBert\n",
        "from sklearn.metrics.pairwise import cosine_similarity\n",
        "import numpy as np\n",
        "#print(np.round_(np.array(cosine_similarity(sentence_embeddings_machine_learning, sentence_embeddings_machine_learning)), decimals=3))"
      ],
      "execution_count": 77,
      "outputs": []
    },
    {
      "cell_type": "code",
      "metadata": {
        "colab": {
          "base_uri": "https://localhost:8080/"
        },
        "id": "0F92HKGAEne-",
        "outputId": "f1b39afc-afcf-4d95-8b2f-2e5e8aef90be"
      },
      "source": [
        "bert_score_ml = np.round_(np.array(cosine_similarity(sentence_embeddings_machine_learning, sentence_embeddings_machine_learning)), decimals=3)[0]\n",
        "bert_score_ml"
      ],
      "execution_count": 28,
      "outputs": [
        {
          "output_type": "execute_result",
          "data": {
            "text/plain": [
              "array([1.   , 0.782, 0.73 , 0.707, 0.763, 0.653, 0.611, 0.705, 0.782,\n",
              "       0.728, 0.641, 0.523, 0.506, 0.648, 0.351, 0.541, 0.598, 0.56 ,\n",
              "       0.452, 0.416, 0.548, 0.107, 0.269, 0.275, 0.119, 0.296],\n",
              "      dtype=float32)"
            ]
          },
          "metadata": {
            "tags": []
          },
          "execution_count": 28
        }
      ]
    },
    {
      "cell_type": "code",
      "metadata": {
        "id": "gxPn6tq8Gft4"
      },
      "source": [
        "# V2.0.0 array([1.  , 0.8 , 0.76, 0.66, 0.9 , 0.79, 0.69, 0.75, 0.8 , 0.84, 0.8 ,\n",
        "#        0.71, 0.61, 0.75, 0.57, 0.58, 0.68, 0.7 , 0.53, 0.6 , 0.65, 0.4 ,\n",
        "#        0.51, 0.44, 0.42, 0.58], dtype=float32)"
      ],
      "execution_count": 29,
      "outputs": []
    },
    {
      "cell_type": "code",
      "metadata": {
        "id": "9LUquIQ5GfxV"
      },
      "source": [
        "# from pandas import DataFrame\n",
        "# data_bert_java = [1.  , 0.66, 0.55, 0.79, 0.75, 0.8 , 0.77, 0.66, 0.91, 0.82, 0.72,\n",
        "#        0.6 , 0.59, 0.63, 0.76, 0.82, 0.81, 0.82, 0.75, 0.58, 0.65, 0.34,\n",
        "#        0.44, 0.36, 0.25, 0.45]\n",
        "# data_skill_java = [100.0,\n",
        "#  22.22222222222222,\n",
        "#  22.22222222222222,\n",
        "#  22.22222222222222,\n",
        "#  66.66666666666666,\n",
        "#  44.44444444444444,\n",
        "#  11.11111111111111,\n",
        "#  22.22222222222222,\n",
        "#  33.33333333333333,\n",
        "#  22.22222222222222,\n",
        "#  22.22222222222222,\n",
        "#  0.0,\n",
        "#  11.11111111111111,\n",
        "#  11.11111111111111,\n",
        "#  11.11111111111111,\n",
        "#  11.11111111111111,\n",
        "#  33.33333333333333,\n",
        "#  11.11111111111111,\n",
        "#  11.11111111111111,\n",
        "#  0.0,\n",
        "#  0.0,\n",
        "#  0.0,\n",
        "#  0.0,\n",
        "#  0.0,\n",
        "#  0.0,\n",
        "#  0.0]\n",
        " \n",
        "# data_final_score_java = [1.  , 0.57, 0.48, 0.67, 0.74, 0.73, 0.64, 0.57, 0.79, 0.7 , 0.62,\n",
        "#        0.48, 0.5 , 0.53, 0.63, 0.68, 0.72, 0.68, 0.62, 0.47, 0.52, 0.27,\n",
        "#        0.35, 0.28, 0.2 , 0.36]\n",
        "\n",
        "# People_List = [data_bert_java, data_skill_java, data_final_score_java]\n",
        "\n",
        "# df = DataFrame (People_List).transpose()\n",
        "# df.columns = ['data_bert_java','data_skill_java','data_final_score_java']\n",
        "# print (df)\n",
        "# df.to_excel(\"temp.xlsx\")"
      ],
      "execution_count": 30,
      "outputs": []
    },
    {
      "cell_type": "code",
      "metadata": {
        "id": "qKSiCV7S3Nrg"
      },
      "source": [
        "# sentences = [\n",
        "#  'Machine Learning is the science of getting computers to learn and act like humans do, and improve their learning over time in autonomous fashion, by feeding them data and information in the form of observations and real-world interactions.',\n",
        "#  'Machine Learning (ML) can be explained as automating and improving the learning process of computers based on their experiences without being actually programmed i.e. without any human assistance. The process starts with feeding good quality data and then training our machines(computers) by building machine learning models using the data and different algorithms. The choice of algorithms depends on what type of data do we have and what kind of task we are trying to automate.',\n",
        "#  'Data science is an inter-disciplinary field that uses scientific methods, processes, algorithms and systems to extract knowledge and insights from many structural and unstructured data. Data science is related to data mining, machine learning and big data.',\n",
        "#  'software engineers are really good in coding they are a good team player and good in mathematics',\n",
        "#  'Joint Entrance Examination – Advanced (JEE-Advanced), formerly the Indian Institutes of Technology-Joint Entrance Examination (IIT-JEE), is an academic examination held annually in India. It is conducted by one of the seven zonal IITs (IIT Roorkee, IIT Kharagpur, IIT Delhi, IIT Kanpur, IIT Bombay, IIT Madras, and IIT Dharwad) under the guidance of the Joint Admission Board (JAB). It is the sole prerequisite for admission to the Indian Institutes of Technology. Other universities like the Rajiv Gandhi Institute of Petroleum Technology, Indian Institute of Science Education and Research and the Indian Institute of Science also use the score obtained on the JEE-Advanced exam as the basis for admission. The examination is organised each year by one of the IITs, on a round-robin rotation pattern.',\n",
        "#  \"The president of India, officially the President of the Republic of India (IAST: Bhārat kē Rāṣhṭrapati), is the ceremonial head of state of India and the Commander-in-chief of the Indian Armed Forces.The president is indirectly elected by an electoral college comprising the Parliament of India (both houses) and the legislative assemblies of each of India's states and territories, who themselves are all directly elected.\"\n",
        "# ]"
      ],
      "execution_count": 31,
      "outputs": []
    },
    {
      "cell_type": "code",
      "metadata": {
        "id": "cJcnv4Zu2dDK"
      },
      "source": [
        "sentences_java = [\n",
        "    #correct           \n",
        "    'Suggested: Digital marketing is the component of marketing that utilizes internet and online based digital technologies such as desktop computers, mobile phones and other digital media and platforms to promote products and services. Its development during the 1990s and 2000s, changed the way brands and businesses use technology for marketing. As digital platforms became increasingly incorporated into marketing plans and everyday life, and as people increasingly use digital devices instead of visiting physical shops, digital marketing campaigns have become prevalent, employing combinations of search engine optimization (SEO), search engine marketing (SEM), content marketing, influencer marketing, content automation, campaign marketing, data-driven marketing, e-commerce marketing, social media marketing, social media optimization, e-mail direct marketing, display advertising, e–books, and optical disks and games have become commonplace. Digital marketing extends to non-Internet channels that provide digital media, such as television, mobile phones (SMS and MMS), callback, and on-hold mobile ring tones.[6] The extension to non-Internet channels differentiates digital marketing from online marketing. Digital marketing encompasses all marketing efforts that use an electronic device or the internet. Businesses leverage digital channels such as search engines, social media, email, and other websites to connect with current and prospective customers. SEO (Search Engine Optimization), Online advertising, SMM (social media marketing), Email marketing',\n",
        "    \n",
        "    #Correct Answer: \n",
        "    \"Digital marketing encompasses all marketing efforts that use an electronic device or the internet. Businesses leverage digital channels such as search engines, social media, email, and other websites to connect with current and prospective customers.Digital marketing is the use of Internet-connected devices such as computers, tablets, and smartphones and game consoles to engage consumers in online advertising.\",\n",
        "    \"Digital marketing is advertising through digital channels such as website, social media, search engine, emails and mobile apps. Many companies are going digital with there business in order to get in the eye of masses without paying much as compare to offline advertisement campaigns.\",\n",
        "    \"Digital Marketing is the process of making your brand known online, through organic and paid methods. Your website is the key place that all your Marketing efforts are going towards, that and any landing pages you create. Organic methods are methods such as Search Engine Optimization (SEO) and Social Media Management (SMM). Paid methods are through online advertising (Facebook ads and Google ads being the most common).\",\n",
        "    \"Digital marketing means advertising with the help of digital channels such as social media, mobile applications, emails, web application, search engines, websites or any new digital. In simple words, digital marketing is any form of marketing products and services that involves electronic devices and it is how today businesses are getting their messages in front of their best prospects and consumers.\",\n",
        "    \"promoting products or brands through one or more electronic media models. For example, advertising media that can be used as part of a digital marketing strategy for a business can include online promotional efforts, social media, mobile phones and billboards, as well as digital, television and radio channels.Digital marketing is the use of Internet-connected devices such as computers, tablets, and smartphones and game consoles to engage consumers in online advertising.\",\n",
        "    \"marketing that uses electronic devices such as computers, tablets, smartphones, and digital panels to connect with consumers and other business partners ... Digital marketing is a marketing process that leads to the development of any organization or Brand using a variety of digital channels such as email, social networks, etc. Digital marketing is the use of Internet-connected devices such as computers, tablets, and smartphones and game consoles to engage consumers in online advertising.\",\n",
        "    \"digital marketing includes marketing, advertising, jobs and web-based technologies. But also includes a variety of newer online advertising media solutions, such as instant sales. In a nutshell, digital marketing involves managing various forms of online presence, such as company Web sites, mobile applications, and social media company pages. This is in conjunction with Internet communication technologies including search engine marketing and marketing via social media, online advertising, email marketing and partnership arrangements with other websites.\",\n",
        "    \"Digital Marketing is a marketing tactic of brands or products or services through online via one or more forms of electronic media different from the traditional marketing. At a high intensity, the Digital Marketing mentioned as a promotion of products or services conveyed through channels like social media, websites, search engines, mobile apps, and email. Digital Media is a regularly developing source of news, social interaction, shopping, and entertainment. Customers are currently exposed not just to what your firm or organization says in regards to your brand, but what the friends, media, surveys, and relatives are saying as well. What's more, they will probably trust them than you.\",\n",
        "    \"Digital Marketing can be understood as a well-targeted, conversion-oriented, quantifiable, and interactive marketing of products or services by utilizing digital innovation to achieve the customers, and transform them into clients in a sustainable fashion. The whole concept and functionalities of Digital Marketing are more competent, effective, result-oriented and measurable, which make it very different from traditional marketing. The traditional way of marketing lets businesses market their products or administrations on print media, radio and TV commercials, bill boards, business cards, and in numerous other comparable ways where Internet or web-based social networking sites were not utilized for promoting.\",\n",
        "    \"The process of selling a product or service through market research, including marketing advertising. Digital marketing is the use of digital media and digital technology to manage the sale of products or services online / through the Internet. And one of the types or methods we use for marketing is digital marketing. There are many ways to do digital marketing. However, there are some methods that we must use in the case of digital marketing. So today we will learn about the most used topics in digital marketing. SEO (Search Engine Optimization), Online advertising, SMM (social media marketing), Email marketing\",\n",
        "\n",
        "    #Related Answer: \n",
        "    \"Online advertising includes email marketing, search engine marketing (SEM), social media marketing, many types of display advertising (including web banner advertising), and mobile advertising. Like other advertising media, online advertising frequently involves a publisher, who integrates advertisements into its online content, and an advertiser, who provides the advertisements to be displayed on the publisher's content. Other potential participants include advertising agencies who help generate and place the ad copy, an ad server which technologically delivers the ad and tracks statistics, and advertising affiliates who do independent promotional work for the advertiser.\",\n",
        "    \"As an Internet marketing strategy, SEO considers how search engines work, the computer-programmed algorithms that dictate search engine behavior, what people search for, the actual search terms or keywords typed into search engines, and which search engines are preferred by their targeted audience. SEO is performed because a website will receive more visitors from a search engine when websites rank higher in the search engine results page (SERP). These visitors can then potentially be converted into customers.[\",\n",
        "    \"Webmasters and content providers began optimizing websites for search engines in the mid-1990s, as the first search engines were cataloging the early Web. Initially, all webmasters only needed to submit the address of a page, or URL, to the various engines which would send a web crawler to crawl that page, extract links to other pages from it, and return information found on the page to be indexed.[4] The process involves a search engine spider downloading a page and storing it on the search engine's own server. A second program, known as an indexer, extracts information about the page, such as the words it contains, where they are located, and any weight for specific words, as well as all links the page contains. All of this information is then placed into a scheduler for crawling at a later date.\",\n",
        "    \"Content marketing attracts prospects and transforms prospects into customers by creating and sharing valuable free content. Content marketing helps companies create sustainable brand loyalty, provides valuable information to consumers, and creates a willingness to purchase products from the company in the future. This relatively new form of marketing does not involve direct sales. Instead, it builds trust and rapport with the audience.\",\n",
        "    \"Display advertising conveys its advertising message visually using text, logos, animations, videos, photographs, or other graphics. Display advertising is commonly used on social media, websites with slots for advertisements, and in real life. In real life, displace advertising can be a sign in front of a building or a billboard alongside a highway. The goal of display advertising is to obtain more traffic, clicks, or popularity for the advertising brand or organization. Display advertisers frequently target users with particular traits to increase the ads' effect. Online advertisers (typically through their ad servers) often use cookies, which are unique identifiers of specific computers, to decide which ads to serve to a particular consumer. Cookies can track whether a user left a page without buying anything, so the advertiser can later retarget the user with ads from the site the user visited.\",\n",
        "    \"Pay-per-click is commonly associated with first-tier search engines (such as Google Ads, Amazon Advertising, and Microsoft Advertising formerly Bing Ads). With search engines, advertisers typically bid on keyword phrases relevant to their target market and pay when ads (text-based search ads or shopping ads that are a combination of images and text) are clicked. In contrast, content sites commonly charge a fixed price per click rather than use a bidding system. PPC display advertisements, also known as banner ads, are shown on web sites with related content that have agreed to show ads and are typically not pay-per-click advertising. Social networks such as Facebook, LinkedIn, Pinterest and Twitter have also adopted pay-per-click as one of their advertising models. \",\n",
        "    \"Social media marketing is the use of social media platforms and websites to promote a product or service.[1] Although the terms e-marketing and digital marketing are still dominant in academia, social media marketing is becoming more popular for both practitioners and researchers.[2] Most social media platforms have built-in data analytics tools, enabling companies to track the progress, success, and engagement of ad campaigns. Companies address a range of stakeholders through social media marketing, including current and potential customers, current and potential employees, journalists, bloggers, and the general public. \",\n",
        "    \"Web analytics is the measurement, collection, analysis, and reporting of web data to understand and optimize web usage.[1] Web analytics is not just a process for measuring web traffic but can be used as a tool for business and market research and assess and improve the website effectiveness. Web analytics applications can also help companies measure the results of traditional print or broadcast advertising campaigns. It can be used to estimate how traffic to a website changes after launching a new advertising campaign. Web analytics provides information about the number of visitors to a website and the number of page views. It helps gauge traffic and popularity trends, which is useful for market research.\",\n",
        "    \"Affiliate marketing occurs when advertisers organize third parties to generate potential customers for them. Third-party affiliates receive payment based on sales generated through their promotion.[26]:22 Affiliate marketers generate traffic to offers from affiliate networks, and when the desired action is taken by the visitor, the affiliate earns a commission. These desired actions can be an email submission, a phone call, filling out an online form, or an online order being completed.\",\n",
        "    \"Average amount of time that visitors spend actually interacting with content on a web page, based on mouse moves, clicks, hovers, and scrolls. Unlike Session Duration and Page View Duration / Time on Page, this metric can accurately measure the length of engagement in the final page view, but it is not available in many analytics tools or data collection methods. Marketing automation refers to software platforms and technologies designed for marketing departments and organizations to more effectively market on multiple channels online (such as email, social media, websites, etc.) and automate repetitive tasks.\",\n",
        "    \n",
        "    #Unrelated\n",
        "    'The University of Oxford (legally The Chancellor, Masters and Scholars of the University of Oxford) is a collegiate research university in Oxford, Oxfordshire, England. There is evidence of teaching as early as 1096,[2] making it the oldest university in the English-speaking world, the worlds second-oldest university in continuous operation and one of the most prestigious academic institutions in the world.[2][10][11] It grew rapidly from 1167 when Henry II banned English students from attending the University of Paris.[2] After disputes between students and Oxford townsfolk in 1209, some academics fled north-east to Cambridge where they established what became the University of Cambridge.[12] The two English ancient universities share many common features and are often jointly called Oxbridge.',\n",
        "    'Students successful in early examinations are rewarded by their colleges with scholarships and exhibitions, normally the result of a long-standing endowment, although since the introduction of tuition fees the amounts of money available are purely nominal. Scholars, and exhibitioners in some colleges, are entitled to wear a more voluminous undergraduate gown; \"commoners\" (originally those who had to pay for their \"commons\", or food and lodging) are restricted to a short, sleeveless garment. The term \"scholar\" in relation to Oxford therefore has a specific meaning as well as the more general meaning of someone of outstanding academic ability. In previous times, there were \"noblemen commoners\" and \"gentlemen commoners\", but these ranks were abolished in the 19th century. \"Closed\" scholarships, available only to candidates who fitted specific conditions such as coming from specific schools, ',\n",
        "    'Political science is a social study concerning the allocation and transfer of power in decision making, the roles and systems of governance including governments and international organizations, political behaviour and public policies. They measure the success of governance and specific policies by examining many factors, including stability, justice, material wealth, peace and public health. Some political scientists seek to advance positive (attempt to describe how things are, as opposed to how they should be) theses by analysing politics. Others advance normative theses, by making specific policy recommendations. The study of politics and policies can be closely connected, for example in comparative analyses of which types of political institutions tend to produce certain types of policies.[6]',\n",
        "    'Gandhi became a leading figure in the Indian home-rule movement. Calling for mass boycotts, he urged government officials to stop working for the Crown, students to stop attending government schools, soldiers to leave their posts and citizens to stop paying taxes and purchasing British goods.',\n",
        "    'Electricity is all around us--powering technology like our cell phones, computers, lights, soldering irons, and air conditioners. It is tough to escape it in our modern world. Even when you try to escape electricity, it is still at work throughout nature, from the lightning in a thunderstorm to the synapses inside our body. But what exactly is electricity? This is a very complicated question, and as you dig deeper and ask more questions, there really is not a definitive answer, only abstract representations of how electricity interacts with our surroundings.',\n",
        "    \n",
        "]"
      ],
      "execution_count": 78,
      "outputs": []
    },
    {
      "cell_type": "code",
      "metadata": {
        "id": "iom-2Q0exPip"
      },
      "source": [
        "# # What is a Balance Sheet?\n",
        "# sentences_java = [\n",
        "#   'Suggested: In financial accounting, a balance sheet (also known as statement of financial position or statement of financial condition) is a summary of the financial balances of an individual or organization, whether it be a sole proprietorship, a business partnership, a corporation, private limited company or other organization such as government or not-for-profit entity. Assets, liabilities and ownership equity are listed as of a specific date, such as the end of its financial year. A balance sheet is often described as a \"snapshot of a companys financial condition\".[1] Of the four basic financial statements, the balance sheet is the only statement which applies to a single point in time of a business calendar year. A standard company balance sheet has two sides: assets on the left, and financing on the right–which itself has two parts; liabilities and ownership equity. The main categories of assets are usually listed first, and typically in order of liquidity.[2] Assets are followed by the liabilities. The difference between the assets and the liabilities is known as equity or the net assets or the net worth or capital of the company and according to the accounting equation, net worth must equal assets minus liabilities. The balance sheet is used alongside other important financial statements such as the income statement and statement of cash flows in conducting fundamental analysis or calculating financial ratios.',\n",
        "  \n",
        "#   #corrrect\n",
        "#   \"A balance sheet is a financial statement that reports a company's assets, liabilities and shareholders' equity at a specific point in time, and provides a basis for computing rates of return and evaluating its capital structure. It is a financial statement that provides a snapshot of what a company owns and owes, as well as the amount invested by shareholders.The balance sheet has two sides that must be equal or balance each other out. The logic behind it is more simple than it seems: a company must pay for its assets by borrowing money from lenders or through investors.\",\n",
        "#   \"A balance sheet is a financial statement that shows what the business is worth at a given point in time.The purpose of the balance sheet is to provide an idea of a company’s financial position. It does so by outlining the total assets that a company owns and any amounts that it owes to lenders or banks, for example, as well as the amount of equity.A standard company balance sheet has three parts: assets, liabilities, and owner’s equity or capital. The balance sheet has two sides that must be equal or balance each other out. The logic behind it is more simple than it seems: a company must pay for its assets by borrowing money from lenders or through investors.\",\n",
        "#   \"The balance sheet is one of the three fundamental financial statements and is key to both financial modeling and accounting. The balance sheet displays the company’s total assets, and how these assets are financed, through either debt or equity. It can also be referred to as a statement of net worth, or a statement of financial position. The balance sheet is based on the fundamental equation: Assets = Liabilities + Equity.  the balance sheet is divided into two sides (or sections). The left side of the balance sheet outlines all of a company’s assets. On the right side, the balance sheet outlines the company’s liabilities and shareholders’ equity. The assets and liabilities are separated into two categories: current asset/liabilities and non-current (long-term) assets/liabilities. \",\n",
        "#   \"A balance sheet gives a statement of a business’s assets, liabilities and shareholders equity at a specific point in time. They offer a snapshot of what your business owns and what it owes as well as the amount invested by its owners, reported on a single day. A balance sheet tells you a business’s worth at a given time, so you can better understand its financial position. A balance sheet reports the assets, liabilities and shareholders equity of your business at a given point in time. The items reported on the balance sheet correspond to the accounts outlined on your chart of accounts. A balance sheet is made up of the following elements: Asset and Liability\",\n",
        "#   \"The balance sheet, also referred to as the statement of financial position, reports the financial position of a business at a point in time. Because the information is reported at a point in time, the balance sheet can be compared to a photograph. It is based upon the accounting equation and reports the assets, liabilities, and equity of the business. At all times Assets = Liabilities + Equity (A = L + E) on the balance sheet and in the accounting system. For academic purposes the equation can also be expressed Equity = Assets – Liabilities. The balance sheet allows stakeholders critical information that cannot be found on the income statement. A business could be very profitable, but the balance sheet will give clues as to how the business became profitable. A rental building for example could show a large profit, but the balance sheet may show that there is a profit only because an investor contributed $1,000,000 cash to the business. A factory could show losses, but a look at the balance sheet could provide clues that the business owns valuable equipment, inventory, and property that could be sold at a later date. Therefore the income statement and balance sheet form a relationship together and are most valuable when viewed together.\",\n",
        "#   \"A balance sheet lays out the ending balances in a company's asset, liability, and equity accounts as of the date stated on the report. The most common use of the balance sheet is as the basis for ratio analysis, to determine the liquidity of a business. Liquidity is essentially the ability to pay one's debts in a timely manner. The information listed on the report must match the following formula: Total assets = Total liabilities + Equity. The balance sheet is one of the key elements in the financial statements, of which the other documents are the income statement and the statement of cash flows. A statement of retained earnings may sometimes be attached. The format of the balance sheet is not mandated by accounting standards, but rather by customary usage. The two most common formats are the vertical balance sheet (where all line items are presented down the left side of the page) and the horizontal balance sheet (where asset line items are listed down the first column and liabilities and equity line items are listed in a later column). The vertical format is easier to use when information is being presented for multiple periods.\",\n",
        "  \n",
        "#   #Related\n",
        "#   'Accounting or accountancy is the measurement, processing, and communication of financial and non financial information about economic entities[1][2] such as businesses and corporations. Accounting, which has been called the \"language of business\",[3] measures the results of an organizations economic activities and conveys this information to a variety of users, including investors, creditors, management, and regulators.[4] Practitioners of accounting are known as accountants. The terms \"accounting\" and \"financial reporting\" are often used as synonyms.',\n",
        "#   'In finance, equity is ownership of assets that may have debts or other liabilities attached to them. Equity is measured for accounting purposes by subtracting liabilities from the value of an asset.[1] For example, if someone owns a car worth $9,000 and owes $3,000 on the loan used to buy the car, then the difference of $6,000 is equity. Equity can apply to a single asset, such as a car or house, or to an entire business. A business that needs to start up or expand its operations can sell its equity in order to raise cash that does not have to be repaid on a set schedule.',\n",
        "#   'A sole proprietorship, also known as the sole trader, individual entrepreneurship or proprietorship, is a type of enterprise that is owned and run by one person and in which there is no legal distinction between the owner and the business entity. A sole trader does not necessarily work alone—it is possible for the sole trader to employ other people.[1]The sole trader receives all profits (subject to taxation specific to the business) and has unlimited responsibility for all losses and debts. Every asset of the business is owned by the proprietor and all debts of the business are the proprietors. It is a \"sole\" proprietorship in contrast with partnerships (which have at least two owners).',\n",
        "#   'In a corporation, capital represents the stockholders equity. Since every business transaction affects at least two of a companys accounts, the accounting equation will always be \"in balance\", meaning the left side of its balance sheet should always equal the right side. Thus, the accounting formula essentially shows that what the firm owns (its assets) is purchased by either what it owes (its liabilities) or by what its owners invest (its shareholders equity or capital); note that the profits earned by the company, is ultimately owned by its owners.',\n",
        "#   'Sometimes it may be easy to reconcile the difference by looking at the transactions in the bank statement since the last reconciliation and the entitys own accounting records (cash book) to see if some combination of them tally with the difference to be explained. Otherwise it may be necessary to go through and match every transaction in both sets of records since the last reconciliation, and identify which transactions remain unmatched. The necessary adjustments should then be made in the cash book, or reported to the bank if necessary, or any timing differences recorded to assist with future reconciliations.',\n",
        "#   'At a certain period of time, what your company owns and what your company owes is something that is given in detail in your balance sheet. All of your short term assets eg: Cash, should be in line with your short term liabilities eg: Taxes, so that at the end of the day, you have money to spend in order to grow your business. Business owners should keep an eye on this sheet because it tells you if you are taking too many loans, without actually having the money to pay them off in time.',\n",
        "  \n",
        "#   #Unrelated\n",
        "#   'The University of Oxford (legally The Chancellor, Masters and Scholars of the University of Oxford) is a collegiate research university in Oxford, Oxfordshire, England. There is evidence of teaching as early as 1096,[2] making it the oldest university in the English-speaking world, the worlds second-oldest university in continuous operation and one of the most prestigious academic institutions in the world.[2][10][11] It grew rapidly from 1167 when Henry II banned English students from attending the University of Paris.[2] After disputes between students and Oxford townsfolk in 1209, some academics fled north-east to Cambridge where they established what became the University of Cambridge.[12] The two English ancient universities share many common features and are often jointly called Oxbridge.',\n",
        "#   'Students successful in early examinations are rewarded by their colleges with scholarships and exhibitions, normally the result of a long-standing endowment, although since the introduction of tuition fees the amounts of money available are purely nominal. Scholars, and exhibitioners in some colleges, are entitled to wear a more voluminous undergraduate gown; \"commoners\" (originally those who had to pay for their \"commons\", or food and lodging) are restricted to a short, sleeveless garment. The term \"scholar\" in relation to Oxford therefore has a specific meaning as well as the more general meaning of someone of outstanding academic ability. In previous times, there were \"noblemen commoners\" and \"gentlemen commoners\", but these ranks were abolished in the 19th century. \"Closed\" scholarships, available only to candidates who fitted specific conditions such as coming from specific schools, ',\n",
        "#   'Political science is a social study concerning the allocation and transfer of power in decision making, the roles and systems of governance including governments and international organizations, political behaviour and public policies. They measure the success of governance and specific policies by examining many factors, including stability, justice, material wealth, peace and public health. Some political scientists seek to advance positive (attempt to describe how things are, as opposed to how they should be) theses by analysing politics. Others advance normative theses, by making specific policy recommendations. The study of politics and policies can be closely connected, for example in comparative analyses of which types of political institutions tend to produce certain types of policies.[6]',\n",
        "#   'Gandhi became a leading figure in the Indian home-rule movement. Calling for mass boycotts, he urged government officials to stop working for the Crown, students to stop attending government schools, soldiers to leave their posts and citizens to stop paying taxes and purchasing British goods.',\n",
        "#   'Electricity is all around us--powering technology like our cell phones, computers, lights, soldering irons, and air conditioners. It is tough to escape it in our modern world. Even when you try to escape electricity, it is still at work throughout nature, from the lightning in a thunderstorm to the synapses inside our body. But what exactly is electricity? This is a very complicated question, and as you dig deeper and ask more questions, there really is not a definitive answer, only abstract representations of how electricity interacts with our surroundings.',\n",
        "  \n",
        "# ]"
      ],
      "execution_count": 79,
      "outputs": []
    },
    {
      "cell_type": "code",
      "metadata": {
        "colab": {
          "base_uri": "https://localhost:8080/"
        },
        "id": "9vAK7mjmGIGf",
        "outputId": "3f77ae65-93fe-4de6-e5ee-db6518cae2e6"
      },
      "source": [
        "len(sentences_java)"
      ],
      "execution_count": 80,
      "outputs": [
        {
          "output_type": "execute_result",
          "data": {
            "text/plain": [
              "26"
            ]
          },
          "metadata": {
            "tags": []
          },
          "execution_count": 80
        }
      ]
    },
    {
      "cell_type": "code",
      "metadata": {
        "id": "rEa50nefv7HY"
      },
      "source": [
        "# Each sentence is encoded as a 1-D vector with 78 columns\n",
        "sentence_embeddings_java = model.encode(sentences_java)\n"
      ],
      "execution_count": 81,
      "outputs": []
    },
    {
      "cell_type": "code",
      "metadata": {
        "colab": {
          "base_uri": "https://localhost:8080/"
        },
        "id": "PMKgTVJT08yn",
        "outputId": "f7974035-5cf2-450c-b94f-1c9711eba241"
      },
      "source": [
        "#cosine similarity - SBert\n",
        "from sklearn.metrics.pairwise import cosine_similarity\n",
        "print(np.round_(np.array(cosine_similarity(sentence_embeddings_java, sentence_embeddings_java)), decimals=3))"
      ],
      "execution_count": 82,
      "outputs": [
        {
          "output_type": "stream",
          "text": [
            "[[1.   0.86 0.69 0.62 0.83 0.85 0.83 0.81 0.68 0.8  0.81 0.71 0.68 0.48\n",
            "  0.54 0.64 0.54 0.75 0.71 0.44 0.58 0.11 0.18 0.31 0.05 0.3 ]\n",
            " [0.86 1.   0.74 0.69 0.93 0.92 0.97 0.81 0.71 0.74 0.82 0.78 0.73 0.48\n",
            "  0.59 0.7  0.6  0.78 0.73 0.57 0.56 0.06 0.15 0.3  0.06 0.22]\n",
            " [0.69 0.74 1.   0.65 0.73 0.71 0.68 0.64 0.68 0.73 0.63 0.6  0.62 0.36\n",
            "  0.68 0.65 0.71 0.67 0.63 0.49 0.52 0.11 0.37 0.24 0.15 0.24]\n",
            " [0.62 0.69 0.65 1.   0.66 0.68 0.68 0.62 0.6  0.62 0.68 0.71 0.7  0.5\n",
            "  0.61 0.66 0.67 0.71 0.62 0.56 0.43 0.14 0.31 0.29 0.13 0.25]\n",
            " [0.83 0.93 0.73 0.66 1.   0.87 0.89 0.8  0.72 0.75 0.8  0.7  0.67 0.43\n",
            "  0.61 0.63 0.54 0.77 0.71 0.47 0.51 0.06 0.17 0.3  0.04 0.2 ]\n",
            " [0.85 0.92 0.71 0.68 0.87 1.   0.93 0.81 0.69 0.72 0.79 0.79 0.68 0.43\n",
            "  0.57 0.68 0.58 0.74 0.69 0.57 0.49 0.05 0.16 0.33 0.04 0.19]\n",
            " [0.83 0.97 0.68 0.68 0.89 0.93 1.   0.83 0.71 0.72 0.8  0.82 0.71 0.47\n",
            "  0.59 0.69 0.57 0.78 0.7  0.6  0.53 0.04 0.16 0.34 0.04 0.19]\n",
            " [0.81 0.81 0.64 0.62 0.8  0.81 0.83 1.   0.72 0.76 0.82 0.83 0.65 0.5\n",
            "  0.61 0.64 0.53 0.79 0.74 0.53 0.62 0.12 0.17 0.37 0.05 0.26]\n",
            " [0.68 0.71 0.68 0.6  0.72 0.69 0.71 0.72 1.   0.7  0.65 0.67 0.65 0.41\n",
            "  0.74 0.64 0.55 0.76 0.66 0.47 0.45 0.12 0.26 0.42 0.1  0.32]\n",
            " [0.8  0.74 0.73 0.62 0.75 0.72 0.72 0.76 0.7  1.   0.7  0.66 0.59 0.46\n",
            "  0.64 0.58 0.57 0.67 0.64 0.43 0.64 0.17 0.29 0.37 0.14 0.31]\n",
            " [0.81 0.82 0.63 0.68 0.8  0.79 0.8  0.82 0.65 0.7  1.   0.8  0.73 0.6\n",
            "  0.58 0.62 0.59 0.78 0.79 0.51 0.63 0.07 0.2  0.41 0.08 0.28]\n",
            " [0.71 0.78 0.6  0.71 0.7  0.79 0.82 0.83 0.67 0.66 0.8  1.   0.73 0.62\n",
            "  0.63 0.75 0.65 0.79 0.74 0.68 0.58 0.1  0.23 0.42 0.09 0.25]\n",
            " [0.68 0.73 0.62 0.7  0.67 0.68 0.71 0.65 0.65 0.59 0.73 0.73 1.   0.56\n",
            "  0.61 0.69 0.66 0.75 0.77 0.66 0.52 0.05 0.2  0.38 0.09 0.22]\n",
            " [0.48 0.48 0.36 0.5  0.43 0.43 0.47 0.5  0.41 0.46 0.6  0.62 0.56 1.\n",
            "  0.42 0.5  0.5  0.5  0.51 0.37 0.5  0.15 0.25 0.26 0.17 0.21]\n",
            " [0.54 0.59 0.68 0.61 0.61 0.57 0.59 0.61 0.74 0.64 0.58 0.63 0.61 0.42\n",
            "  1.   0.59 0.6  0.69 0.62 0.54 0.41 0.07 0.36 0.4  0.16 0.21]\n",
            " [0.64 0.7  0.65 0.66 0.63 0.68 0.69 0.64 0.64 0.58 0.62 0.75 0.69 0.5\n",
            "  0.59 1.   0.69 0.7  0.7  0.55 0.53 0.06 0.2  0.31 0.14 0.2 ]\n",
            " [0.54 0.6  0.71 0.67 0.54 0.58 0.57 0.53 0.55 0.57 0.59 0.65 0.66 0.5\n",
            "  0.6  0.69 1.   0.57 0.59 0.58 0.49 0.14 0.42 0.27 0.17 0.16]\n",
            " [0.75 0.78 0.67 0.71 0.77 0.74 0.78 0.79 0.76 0.67 0.78 0.79 0.75 0.5\n",
            "  0.69 0.7  0.57 1.   0.81 0.54 0.54 0.11 0.24 0.46 0.09 0.25]\n",
            " [0.71 0.73 0.63 0.62 0.71 0.69 0.7  0.74 0.66 0.64 0.79 0.74 0.77 0.51\n",
            "  0.62 0.7  0.59 0.81 1.   0.52 0.6  0.08 0.19 0.46 0.11 0.29]\n",
            " [0.44 0.57 0.49 0.56 0.47 0.57 0.6  0.53 0.47 0.43 0.51 0.68 0.66 0.37\n",
            "  0.54 0.55 0.58 0.54 0.52 1.   0.31 0.04 0.25 0.34 0.12 0.04]\n",
            " [0.58 0.56 0.52 0.43 0.51 0.49 0.53 0.62 0.45 0.64 0.63 0.58 0.52 0.5\n",
            "  0.41 0.53 0.49 0.54 0.6  0.31 1.   0.13 0.24 0.22 0.11 0.37]\n",
            " [0.11 0.06 0.11 0.14 0.06 0.05 0.04 0.12 0.12 0.17 0.07 0.1  0.05 0.15\n",
            "  0.07 0.06 0.14 0.11 0.08 0.04 0.13 1.   0.49 0.05 0.25 0.26]\n",
            " [0.18 0.15 0.37 0.31 0.17 0.16 0.16 0.17 0.26 0.29 0.2  0.23 0.2  0.25\n",
            "  0.36 0.2  0.42 0.24 0.19 0.25 0.24 0.49 1.   0.18 0.19 0.18]\n",
            " [0.31 0.3  0.24 0.29 0.3  0.33 0.34 0.37 0.42 0.37 0.41 0.42 0.38 0.26\n",
            "  0.4  0.31 0.27 0.46 0.46 0.34 0.22 0.05 0.18 1.   0.11 0.21]\n",
            " [0.05 0.06 0.15 0.13 0.04 0.04 0.04 0.05 0.1  0.14 0.08 0.09 0.09 0.17\n",
            "  0.16 0.14 0.17 0.09 0.11 0.12 0.11 0.25 0.19 0.11 1.   0.08]\n",
            " [0.3  0.22 0.24 0.25 0.2  0.19 0.19 0.26 0.32 0.31 0.28 0.25 0.22 0.21\n",
            "  0.21 0.2  0.16 0.25 0.29 0.04 0.37 0.26 0.18 0.21 0.08 1.  ]]\n"
          ],
          "name": "stdout"
        }
      ]
    },
    {
      "cell_type": "code",
      "metadata": {
        "colab": {
          "base_uri": "https://localhost:8080/"
        },
        "id": "jtgIJCA_2Dva",
        "outputId": "929f3e8e-c59b-4f85-a339-e896380bd719"
      },
      "source": [
        "bert_score_java = np.round_(np.array(cosine_similarity(sentence_embeddings_java, sentence_embeddings_java)), decimals=3)[0]\n",
        "bert_score_java"
      ],
      "execution_count": 83,
      "outputs": [
        {
          "output_type": "execute_result",
          "data": {
            "text/plain": [
              "array([1.  , 0.86, 0.69, 0.62, 0.83, 0.85, 0.83, 0.81, 0.68, 0.8 , 0.81,\n",
              "       0.71, 0.68, 0.48, 0.54, 0.64, 0.54, 0.75, 0.71, 0.44, 0.58, 0.11,\n",
              "       0.18, 0.31, 0.05, 0.3 ], dtype=float32)"
            ]
          },
          "metadata": {
            "tags": []
          },
          "execution_count": 83
        }
      ]
    },
    {
      "cell_type": "code",
      "metadata": {
        "id": "Nkp0es7xmHx5"
      },
      "source": [
        "# V2.0.0 array([1.  , 0.66, 0.55, 0.79, 0.75, 0.8 , 0.77, 0.66, 0.91, 0.82, 0.72,\n",
        "#        0.6 , 0.59, 0.63, 0.76, 0.82, 0.81, 0.82, 0.75, 0.58, 0.65, 0.34,\n",
        "#        0.44, 0.36, 0.25, 0.45], dtype=float32)"
      ],
      "execution_count": 38,
      "outputs": []
    },
    {
      "cell_type": "code",
      "metadata": {
        "id": "6ifTEQMT2DzY"
      },
      "source": [
        "# 85-75: 3\n",
        "# 85-95: 4\n",
        "# >95 : 5\n",
        "# skill match score: 25%\n",
        "# model : 75%"
      ],
      "execution_count": 39,
      "outputs": []
    },
    {
      "cell_type": "code",
      "metadata": {
        "id": "WCjY87E6gSNs"
      },
      "source": [
        "#skill count ratio"
      ],
      "execution_count": 40,
      "outputs": []
    },
    {
      "cell_type": "code",
      "metadata": {
        "colab": {
          "base_uri": "https://localhost:8080/"
        },
        "id": "pVqADFzKjf0c",
        "outputId": "7f213a21-f9f3-48ec-f95b-542d457c892f"
      },
      "source": [
        "!pip install flashtext"
      ],
      "execution_count": 84,
      "outputs": [
        {
          "output_type": "stream",
          "text": [
            "Requirement already satisfied: flashtext in /usr/local/lib/python3.6/dist-packages (2.7)\n"
          ],
          "name": "stdout"
        }
      ]
    },
    {
      "cell_type": "code",
      "metadata": {
        "colab": {
          "base_uri": "https://localhost:8080/"
        },
        "id": "TFttA4aikSvA",
        "outputId": "6d9a05da-44d9-46c9-9aee-a30adcc5d64d"
      },
      "source": [
        "import nltk\n",
        "nltk.download('stopwords')\n",
        "nltk.download('punkt')"
      ],
      "execution_count": 85,
      "outputs": [
        {
          "output_type": "stream",
          "text": [
            "[nltk_data] Downloading package stopwords to /root/nltk_data...\n",
            "[nltk_data]   Package stopwords is already up-to-date!\n",
            "[nltk_data] Downloading package punkt to /root/nltk_data...\n",
            "[nltk_data]   Package punkt is already up-to-date!\n"
          ],
          "name": "stdout"
        },
        {
          "output_type": "execute_result",
          "data": {
            "text/plain": [
              "True"
            ]
          },
          "metadata": {
            "tags": []
          },
          "execution_count": 85
        }
      ]
    },
    {
      "cell_type": "code",
      "metadata": {
        "id": "eGQ6sihai38S"
      },
      "source": [
        "import re\n",
        "import datetime\n",
        "import nltk\n",
        "import pandas as pd\n",
        "from string import digits\n",
        "from nltk import word_tokenize\n",
        "from flashtext import KeywordProcessor\n",
        "from nltk.stem import WordNetLemmatizer\n",
        "\n",
        "wordnet_lemmatizer = WordNetLemmatizer()\n",
        "import re\n",
        "\n",
        "TAG_RE = re.compile(r'<[^>]+>')\n",
        "def remove_tags(text):\n",
        "    return TAG_RE.sub(' ', text)\n",
        "\n",
        "try:\n",
        "    from nltk.corpus import stopwords\n",
        "except jdr_exceptions as e:\n",
        "    import nltk\n",
        "    nltk.download('stopwords')\n",
        "    from nltk.corpus import stopwords\n",
        "\n",
        "\n",
        "with open(\"/content/dice_hard_skills_updated.txt\", 'r', encoding = \"utf-8\") as skill_data:\n",
        "    unique_skills = skill_data.read()\n",
        "    unique_skills = unique_skills.split(\"\\n\")\n",
        "\n",
        "with open(\"/content/lemmatized_skills.txt\", 'r', encoding = \"utf-8\") as lemma_skill_data:\n",
        "   lemma_skills = lemma_skill_data.read()\n",
        "   lemma_skills = lemma_skills.split(\"\\n\")\n",
        "\n",
        "# Regex Alternate to replace skills faster\n",
        "replace_keyword_processor = KeywordProcessor(case_sensitive=True)\n",
        "\n",
        "for i in range(len(unique_skills)):\n",
        "    replace_keyword_processor.add_keyword(unique_skills[i], lemma_skills[i])\n",
        "\n",
        "# Load stopwords before-hand\n",
        "stop_words = stopwords.words('english')"
      ],
      "execution_count": 86,
      "outputs": []
    },
    {
      "cell_type": "code",
      "metadata": {
        "colab": {
          "base_uri": "https://localhost:8080/"
        },
        "id": "JK787llkj3mk",
        "outputId": "2f8c0143-4b14-4214-d66f-307df76fe9b5"
      },
      "source": [
        "len(unique_skills)"
      ],
      "execution_count": 87,
      "outputs": [
        {
          "output_type": "execute_result",
          "data": {
            "text/plain": [
              "8068"
            ]
          },
          "metadata": {
            "tags": []
          },
          "execution_count": 87
        }
      ]
    },
    {
      "cell_type": "code",
      "metadata": {
        "colab": {
          "base_uri": "https://localhost:8080/"
        },
        "id": "8DSKG-y0lAKN",
        "outputId": "1ad8cf8e-5eeb-42f2-a75c-4be3b46438e4"
      },
      "source": [
        "unique_skills[:10]"
      ],
      "execution_count": 88,
      "outputs": [
        {
          "output_type": "execute_result",
          "data": {
            "text/plain": [
              "['ab initio',\n",
              " 'ab test',\n",
              " 'abaqus',\n",
              " 'abend aid',\n",
              " 'ableton live',\n",
              " 'absence management',\n",
              " 'acaps',\n",
              " 'acceptance testing',\n",
              " 'acceptance testing management',\n",
              " 'access control']"
            ]
          },
          "metadata": {
            "tags": []
          },
          "execution_count": 88
        }
      ]
    },
    {
      "cell_type": "code",
      "metadata": {
        "colab": {
          "base_uri": "https://localhost:8080/"
        },
        "id": "fIIaiNbxjcfx",
        "outputId": "7ab0a10a-e1c8-447e-ebcb-087737f485c5"
      },
      "source": [
        "len(lemma_skills)"
      ],
      "execution_count": 89,
      "outputs": [
        {
          "output_type": "execute_result",
          "data": {
            "text/plain": [
              "8068"
            ]
          },
          "metadata": {
            "tags": []
          },
          "execution_count": 89
        }
      ]
    },
    {
      "cell_type": "code",
      "metadata": {
        "colab": {
          "base_uri": "https://localhost:8080/"
        },
        "id": "668zHBx9lDzn",
        "outputId": "e42c96ea-43e1-4ad7-c923-66865542059b"
      },
      "source": [
        "lemma_skills[:10]"
      ],
      "execution_count": 90,
      "outputs": [
        {
          "output_type": "execute_result",
          "data": {
            "text/plain": [
              "['ab_initio',\n",
              " 'ab_test',\n",
              " 'abaqus',\n",
              " 'abend_aid',\n",
              " 'ableton_live',\n",
              " 'absence_management',\n",
              " 'acaps',\n",
              " 'acceptance_testing',\n",
              " 'acceptance_testing_management',\n",
              " 'access_control']"
            ]
          },
          "metadata": {
            "tags": []
          },
          "execution_count": 90
        }
      ]
    },
    {
      "cell_type": "code",
      "metadata": {
        "id": "SEXYESz_iWXl"
      },
      "source": [
        "def preprocessJob(text, unique_skills, lemma_skills): \n",
        "\n",
        "    global stop_words\n",
        "    text = text.lower()\n",
        "    \n",
        "    replace_keyword_processor = KeywordProcessor(case_sensitive=True)\n",
        "    for i in range(len(unique_skills)):\n",
        "        replace_keyword_processor.add_keyword(unique_skills[i], lemma_skills[i])\n",
        "    text = replace_keyword_processor.replace_keywords(text)\n",
        "\n",
        "    #dealing with unicode char\n",
        "    text = text.replace(u'\\xa0', u' ')\n",
        "    text = re.sub(r'[^\\x00-\\x7F]',' ', text)\n",
        "\n",
        "    # Removes non-alphabetic characters excluding _\n",
        "    text= re.sub('[^._A-Za-z]', ' ', text)\n",
        "\n",
        "    #replacing multiple space with single space\n",
        "    text = re.sub('\\s+', ' ', text)\n",
        "    \n",
        "    #replacing multiple _ with single _\n",
        "    text = re.sub('_+', '_', text)\n",
        "\n",
        "    # strips extra spaces and underscores pairs\n",
        "    text = re.sub(' _ ', ' ', text)\n",
        "    text = re.sub('_ ', ' ', text)\n",
        "    text = re.sub(' _', ' ', text)\n",
        "    text = re.sub('\\s+', ' ', text)\n",
        "\n",
        "    tokens = word_tokenize(str(text))\n",
        "    result = [token for token in tokens if token not in stop_words]\n",
        "    result = \" \".join(result)\n",
        "    return result"
      ],
      "execution_count": 91,
      "outputs": []
    },
    {
      "cell_type": "code",
      "metadata": {
        "id": "kHjGodQRiWb9"
      },
      "source": [
        "text = \"Suggested: Java is a class-based, object-oriented programming language that is designed to have as few implementation dependencies as possible. It is a general-purpose programming language intended to let application developers write once, run anywhere (WORA),[17] meaning that compiled Java code can run on all platforms that support Java without the need for recompilation.[18] Java applications are typically compiled to bytecode that can run on any Java virtual machine (JVM) regardless of the underlying computer architecture. The syntax of Java is similar to C and C++, but has fewer low-level facilities than either of them. The Java runtime provides dynamic capabilities (such as reflection and runtime code modification) that are typically not available in traditional compiled languages. As of 2019, Java was one of the most popular programming languages in use according to GitHub,[19][20] particularly for client-server web applications, with a reported 9 million developers.\"\n",
        "clean_text = preprocessJob(text, unique_skills, lemma_skills)"
      ],
      "execution_count": 92,
      "outputs": []
    },
    {
      "cell_type": "code",
      "metadata": {
        "colab": {
          "base_uri": "https://localhost:8080/"
        },
        "id": "L0YdvpwRoGfc",
        "outputId": "bbf0f6b6-8754-4788-8d95-26cf3632c38d"
      },
      "source": [
        "print(clean_text)"
      ],
      "execution_count": 93,
      "outputs": [
        {
          "output_type": "stream",
          "text": [
            "suggested java class based object oriented programming language designed implementation dependencies possible . general purpose programming language intended let application developers write run anywhere wora meaning compiled java code run platforms support java without need recompilation . java applications typically compiled bytecode run java virtual machine jvm regardless underlying computer_architecture . syntax java similar c cPP fewer low level facilities either . java runtime provides dynamic capabilities reflection runtime code modification typically available traditional compiled languages . java one popular programming_language use according github particularly client server web_applications reported million developers .\n"
          ],
          "name": "stdout"
        }
      ]
    },
    {
      "cell_type": "code",
      "metadata": {
        "id": "mcPuN8RydfMV"
      },
      "source": [
        "# suggested java class based object oriented programming language designed implementation dependencies possible . general purpose programming language intended let application developers write run anywhere wora meaning compiled java code run platforms support java without need recompilation . java applications typically compiled bytecode run java virtual machine jvm regardless underlying computer_architecture . syntax java similar c cPP fewer low level facilities either . java runtime provides dynamic capabilities reflection runtime code modification typically available traditional compiled languages . java one popular programming_language use according github particularly client server web_applications reported million developers .\n"
      ],
      "execution_count": 94,
      "outputs": []
    },
    {
      "cell_type": "code",
      "metadata": {
        "id": "G436G5ociWfd"
      },
      "source": [
        "def extractKeywords(text):\n",
        "  \n",
        "    extract_keyword_processor = KeywordProcessor()\n",
        "    extract_keyword_processor.add_keywords_from_list(lemma_skills)\n",
        "    return list(set(extract_keyword_processor.extract_keywords(text)))"
      ],
      "execution_count": 95,
      "outputs": []
    },
    {
      "cell_type": "code",
      "metadata": {
        "colab": {
          "base_uri": "https://localhost:8080/"
        },
        "id": "H0TCFQBmiWlJ",
        "outputId": "61087f04-d931-4ff5-f0da-5ed6ce27bf21"
      },
      "source": [
        "extractKeywords(clean_text)"
      ],
      "execution_count": 96,
      "outputs": [
        {
          "output_type": "execute_result",
          "data": {
            "text/plain": [
              "['java',\n",
              " 'web_applications',\n",
              " 'github',\n",
              " 'programming',\n",
              " 'c',\n",
              " 'programming_language',\n",
              " 'jvm',\n",
              " 'computer_architecture',\n",
              " 'cPP']"
            ]
          },
          "metadata": {
            "tags": []
          },
          "execution_count": 96
        }
      ]
    },
    {
      "cell_type": "code",
      "metadata": {
        "colab": {
          "base_uri": "https://localhost:8080/"
        },
        "id": "U1Dil9BgoL5l",
        "outputId": "0a0ebb37-4b7e-48f5-f7d1-3bc75421714f"
      },
      "source": [
        "#repeating same for candidate answer\n",
        "text = 'Machine Learning is a sub-area of artificial intelligence, whereby the term refers to the ability of IT systems to independently find solutions to problems by recognizing patterns in databases. In other words: Machine Learning enables IT systems to recognize patterns on the basis of existing algorithms and data sets and to develop adequate solution concepts.'\n",
        "clean_text = preprocessJob(text, unique_skills, lemma_skills)\n",
        "extractKeywords(clean_text)"
      ],
      "execution_count": 97,
      "outputs": [
        {
          "output_type": "execute_result",
          "data": {
            "text/plain": [
              "['database', 'machine_learning', 'algorithm', 'artificial_intelligence']"
            ]
          },
          "metadata": {
            "tags": []
          },
          "execution_count": 97
        }
      ]
    },
    {
      "cell_type": "code",
      "metadata": {
        "id": "20GCTRDpow2R"
      },
      "source": [
        ""
      ],
      "execution_count": 56,
      "outputs": []
    },
    {
      "cell_type": "markdown",
      "metadata": {
        "id": "V7REzf9aI6oe"
      },
      "source": [
        "### JAVA"
      ]
    },
    {
      "cell_type": "code",
      "metadata": {
        "colab": {
          "base_uri": "https://localhost:8080/"
        },
        "id": "iJ44J1v_I9Pu",
        "outputId": "509aa36b-1671-47d9-c688-ff573ec9abac"
      },
      "source": [
        "len(sentences_java)"
      ],
      "execution_count": 98,
      "outputs": [
        {
          "output_type": "execute_result",
          "data": {
            "text/plain": [
              "26"
            ]
          },
          "metadata": {
            "tags": []
          },
          "execution_count": 98
        }
      ]
    },
    {
      "cell_type": "code",
      "metadata": {
        "id": "wk0EL9L2I9UM"
      },
      "source": [
        "skill_vector_list = list()\n",
        "for i in range(len(sentences_java)):\n",
        "    clean_text = preprocessJob(sentences_java[i], unique_skills, lemma_skills)\n",
        "    skill_vector_list.append(extractKeywords(clean_text))"
      ],
      "execution_count": 99,
      "outputs": []
    },
    {
      "cell_type": "code",
      "metadata": {
        "colab": {
          "base_uri": "https://localhost:8080/"
        },
        "id": "4Wmg4KS-KTki",
        "outputId": "b6b78a8d-0767-4a9b-e9f3-5d4ef83bc09b"
      },
      "source": [
        "skill_vector_list"
      ],
      "execution_count": 100,
      "outputs": [
        {
          "output_type": "execute_result",
          "data": {
            "text/plain": [
              "[['digital_media',\n",
              "  'content_marketing',\n",
              "  'online_marketing',\n",
              "  'marketing_plans',\n",
              "  'marketing',\n",
              "  'social_media_marketing',\n",
              "  'seo',\n",
              "  'sem',\n",
              "  'direct_marketing',\n",
              "  'email_marketing',\n",
              "  'medium',\n",
              "  'influencer_marketing',\n",
              "  'digital_marketing',\n",
              "  'automation',\n",
              "  'search_engine',\n",
              "  'online_advertising',\n",
              "  'search_engine_optimization',\n",
              "  'optimization',\n",
              "  'display_advertising',\n",
              "  'smm',\n",
              "  'eHYPHENcommerce',\n",
              "  'mms'],\n",
              " ['marketing',\n",
              "  'digital_marketing',\n",
              "  'search_engine',\n",
              "  'online_advertising',\n",
              "  'medium'],\n",
              " ['search_engine', 'digital_marketing', 'advertising', 'medium'],\n",
              " ['marketing',\n",
              "  'smm',\n",
              "  'social_media_management',\n",
              "  'digital_marketing',\n",
              "  'seo',\n",
              "  'online_advertising',\n",
              "  'search_engine_optimization'],\n",
              " ['marketing',\n",
              "  'digital_marketing',\n",
              "  'advertising',\n",
              "  'mobile_applications',\n",
              "  'search_engine',\n",
              "  'medium'],\n",
              " ['digital_marketing',\n",
              "  'advertising',\n",
              "  'digital_marketing_strategy',\n",
              "  'online_advertising',\n",
              "  'medium'],\n",
              " ['online_advertising', 'social_networks', 'digital_marketing', 'marketing'],\n",
              " ['sale',\n",
              "  'marketing',\n",
              "  'digital_marketing',\n",
              "  'advertising',\n",
              "  'mobile_applications',\n",
              "  'search_engine',\n",
              "  'email_marketing',\n",
              "  'online_advertising',\n",
              "  'medium'],\n",
              " ['digital_media',\n",
              "  'marketing',\n",
              "  'digital_marketing',\n",
              "  'search_engine',\n",
              "  'medium'],\n",
              " ['marketing',\n",
              "  'digital_marketing',\n",
              "  'interactive_marketing',\n",
              "  'networking',\n",
              "  'medium'],\n",
              " ['digital_media',\n",
              "  'sale',\n",
              "  'marketing',\n",
              "  'market_research',\n",
              "  'smm',\n",
              "  'social_media_marketing',\n",
              "  'digital_marketing',\n",
              "  'advertising',\n",
              "  'seo',\n",
              "  'email_marketing',\n",
              "  'online_advertising',\n",
              "  'search_engine_optimization'],\n",
              " ['marketing',\n",
              "  'display_advertising',\n",
              "  'social_media_marketing',\n",
              "  'advertising',\n",
              "  'statistic',\n",
              "  'sem',\n",
              "  'email_marketing',\n",
              "  'mobile_advertising',\n",
              "  'online_advertising',\n",
              "  'medium'],\n",
              " ['search_engine', 'seo', 'internet_marketing', 'algorithm'],\n",
              " ['search_engine'],\n",
              " ['direct_sales', 'content_marketing', 'marketing'],\n",
              " ['display_advertising', 'advertising', 'medium'],\n",
              " ['pinterest', 'advertising', 'search_engine', 'social_networks', 'ppc'],\n",
              " ['marketing',\n",
              "  'data_analytics',\n",
              "  'social_media_marketing',\n",
              "  'digital_marketing',\n",
              "  'medium'],\n",
              " ['market_research',\n",
              "  'advertising',\n",
              "  'reporting',\n",
              "  'web_analytics',\n",
              "  'analysis',\n",
              "  'broadcast'],\n",
              " ['affiliate_marketing', 'sale'],\n",
              " ['marketing',\n",
              "  'marketing_automation',\n",
              "  'data_collection',\n",
              "  'analytics',\n",
              "  'medium'],\n",
              " ['teaching'],\n",
              " [],\n",
              " ['decision_making'],\n",
              " ['tax', 'mass', 'purchasing'],\n",
              " ['soldering']]"
            ]
          },
          "metadata": {
            "tags": []
          },
          "execution_count": 100
        }
      ]
    },
    {
      "cell_type": "code",
      "metadata": {
        "id": "RueOsdL1KX3W"
      },
      "source": [
        "score_vector = list()\n",
        "\n",
        "for i in range(0,len(skill_vector_list)):\n",
        "    # Percentage similarity of lists using \"|\" operator + \"&\" operator + set() \n",
        "    res = ( len(set(skill_vector_list[i]) & set(skill_vector_list[0])) / float(len(set(skill_vector_list[0]))) )* 100\n",
        "    score_vector.append(res)"
      ],
      "execution_count": 101,
      "outputs": []
    },
    {
      "cell_type": "code",
      "metadata": {
        "id": "-4JCW7bBl1Sw"
      },
      "source": [
        "import numpy as np\n",
        "np.set_printoptions(precision=2)"
      ],
      "execution_count": 102,
      "outputs": []
    },
    {
      "cell_type": "code",
      "metadata": {
        "colab": {
          "base_uri": "https://localhost:8080/"
        },
        "id": "9t3opzZdLdWE",
        "outputId": "71ebc851-fe6e-4c6f-fccf-3595e93de641"
      },
      "source": [
        "skill_score_java = score_vector\n",
        "skill_score_java"
      ],
      "execution_count": 103,
      "outputs": [
        {
          "output_type": "execute_result",
          "data": {
            "text/plain": [
              "[100.0,\n",
              " 22.727272727272727,\n",
              " 13.636363636363635,\n",
              " 27.27272727272727,\n",
              " 18.181818181818183,\n",
              " 13.636363636363635,\n",
              " 13.636363636363635,\n",
              " 27.27272727272727,\n",
              " 22.727272727272727,\n",
              " 13.636363636363635,\n",
              " 40.909090909090914,\n",
              " 31.818181818181817,\n",
              " 9.090909090909092,\n",
              " 4.545454545454546,\n",
              " 9.090909090909092,\n",
              " 9.090909090909092,\n",
              " 4.545454545454546,\n",
              " 18.181818181818183,\n",
              " 0.0,\n",
              " 0.0,\n",
              " 9.090909090909092,\n",
              " 0.0,\n",
              " 0.0,\n",
              " 0.0,\n",
              " 0.0,\n",
              " 0.0]"
            ]
          },
          "metadata": {
            "tags": []
          },
          "execution_count": 103
        }
      ]
    },
    {
      "cell_type": "markdown",
      "metadata": {
        "id": "jFbgbI24I9uO"
      },
      "source": [
        "### MACHINE LEARNING"
      ]
    },
    {
      "cell_type": "code",
      "metadata": {
        "colab": {
          "base_uri": "https://localhost:8080/"
        },
        "id": "SzrgPQEZJCqN",
        "outputId": "22669242-ea8b-4227-ac35-f4f769db89d7"
      },
      "source": [
        "len(sentences_machine_learning)"
      ],
      "execution_count": 63,
      "outputs": [
        {
          "output_type": "execute_result",
          "data": {
            "text/plain": [
              "26"
            ]
          },
          "metadata": {
            "tags": []
          },
          "execution_count": 63
        }
      ]
    },
    {
      "cell_type": "code",
      "metadata": {
        "id": "Tpm1Ot20JCvx"
      },
      "source": [
        "skill_vector_list = list()\n",
        "for i in range(len(sentences_machine_learning)):\n",
        "    clean_text = preprocessJob(sentences_machine_learning[i], unique_skills, lemma_skills)\n",
        "    skill_vector_list.append(extractKeywords(clean_text))"
      ],
      "execution_count": 64,
      "outputs": []
    },
    {
      "cell_type": "code",
      "metadata": {
        "colab": {
          "base_uri": "https://localhost:8080/"
        },
        "id": "gXD0tRurJCzY",
        "outputId": "e909c196-4017-4101-add1-1e693e4e0511"
      },
      "source": [
        "skill_vector_list"
      ],
      "execution_count": 65,
      "outputs": [
        {
          "output_type": "execute_result",
          "data": {
            "text/plain": [
              "[['ml', 'machine_learning', 'training', 'algorithm'],\n",
              " ['machine_learning'],\n",
              " ['database', 'machine_learning', 'algorithm', 'artificial_intelligence'],\n",
              " ['ml', 'algorithm'],\n",
              " ['data_analysis',\n",
              "  'analytical',\n",
              "  'artificial_intelligence',\n",
              "  'machine_learning',\n",
              "  'pattern_recognition'],\n",
              " ['spreadsheet', 'machine_learning', 'database', 'algorithm'],\n",
              " ['machine_learning', 'training', 'testing'],\n",
              " ['machine_learning', 'algorithm'],\n",
              " ['machine_learning'],\n",
              " ['machine_learning', 'supervised_learning'],\n",
              " [],\n",
              " ['natural_language_processing',\n",
              "  'nlp',\n",
              "  'algorithm',\n",
              "  'artificial_intelligence'],\n",
              " ['indexing', 'natural_language_processing', 'nlp', 'machine_translation'],\n",
              " ['machine_learning',\n",
              "  'natural_language_processing',\n",
              "  'nlp',\n",
              "  'artificial_intelligence'],\n",
              " ['artificial_intelligence'],\n",
              " ['ai', 'artificial_intelligence'],\n",
              " ['speech_recognition',\n",
              "  'natural_language_processing',\n",
              "  'visual',\n",
              "  'artificial_intelligence',\n",
              "  'human_intelligence'],\n",
              " ['tensorflow', 'graph', 'python'],\n",
              " ['scripting_language', 'oop', 'python', 'programming'],\n",
              " ['ggplot', 'r', 'analysis', 'python'],\n",
              " ['design', 'deep_learning', 'pytorch', 'kera'],\n",
              " ['teaching'],\n",
              " [],\n",
              " ['decision_making'],\n",
              " ['tax', 'mass', 'purchasing'],\n",
              " ['soldering']]"
            ]
          },
          "metadata": {
            "tags": []
          },
          "execution_count": 65
        }
      ]
    },
    {
      "cell_type": "code",
      "metadata": {
        "id": "zh7mr2R2MEvz"
      },
      "source": [
        "score_vector = list()\n",
        "\n",
        "for i in range(0,len(skill_vector_list)):\n",
        "    # Percentage similarity of lists using \"|\" operator + \"&\" operator + set() \n",
        "    res = ( len(set(skill_vector_list[i]) & set(skill_vector_list[0])) / float(len(set(skill_vector_list[0]))) )* 100\n",
        "    score_vector.append(res)"
      ],
      "execution_count": 66,
      "outputs": []
    },
    {
      "cell_type": "code",
      "metadata": {
        "id": "ggUvcc2GMKFC",
        "colab": {
          "base_uri": "https://localhost:8080/"
        },
        "outputId": "734efaae-cb34-41ab-a0fe-4283c395cfec"
      },
      "source": [
        "skill_score_ml = score_vector\n",
        "skill_score_ml"
      ],
      "execution_count": 67,
      "outputs": [
        {
          "output_type": "execute_result",
          "data": {
            "text/plain": [
              "[100.0,\n",
              " 25.0,\n",
              " 50.0,\n",
              " 50.0,\n",
              " 25.0,\n",
              " 50.0,\n",
              " 50.0,\n",
              " 50.0,\n",
              " 25.0,\n",
              " 25.0,\n",
              " 0.0,\n",
              " 25.0,\n",
              " 0.0,\n",
              " 25.0,\n",
              " 0.0,\n",
              " 0.0,\n",
              " 0.0,\n",
              " 0.0,\n",
              " 0.0,\n",
              " 0.0,\n",
              " 0.0,\n",
              " 0.0,\n",
              " 0.0,\n",
              " 0.0,\n",
              " 0.0,\n",
              " 0.0]"
            ]
          },
          "metadata": {
            "tags": []
          },
          "execution_count": 67
        }
      ]
    },
    {
      "cell_type": "code",
      "metadata": {
        "id": "gvkNPMLSMMHq"
      },
      "source": [
        ""
      ],
      "execution_count": 67,
      "outputs": []
    },
    {
      "cell_type": "markdown",
      "metadata": {
        "id": "LdBvHtw1jmzP"
      },
      "source": [
        "## Calculating final score"
      ]
    },
    {
      "cell_type": "code",
      "metadata": {
        "id": "AZbF84g7qQPP"
      },
      "source": [
        "import numpy as np"
      ],
      "execution_count": 68,
      "outputs": []
    },
    {
      "cell_type": "code",
      "metadata": {
        "colab": {
          "base_uri": "https://localhost:8080/"
        },
        "id": "TsgNH-j-p3yw",
        "outputId": "8ab56c24-b2e5-4b28-fef9-1f0b7f3e4e16"
      },
      "source": [
        "final_score_ml = (0.2 * (np.array(skill_score_ml)/100)) + (0.8 * np.array(bert_score_ml))\n",
        "final_score_ml"
      ],
      "execution_count": 69,
      "outputs": [
        {
          "output_type": "execute_result",
          "data": {
            "text/plain": [
              "array([1.  , 0.68, 0.68, 0.67, 0.66, 0.62, 0.59, 0.66, 0.68, 0.63, 0.51,\n",
              "       0.47, 0.4 , 0.57, 0.28, 0.43, 0.48, 0.45, 0.36, 0.33, 0.44, 0.09,\n",
              "       0.22, 0.22, 0.1 , 0.24])"
            ]
          },
          "metadata": {
            "tags": []
          },
          "execution_count": 69
        }
      ]
    },
    {
      "cell_type": "code",
      "metadata": {
        "colab": {
          "base_uri": "https://localhost:8080/",
          "height": 715
        },
        "id": "wX51MqsTgM1m",
        "outputId": "10642d01-3d85-407d-cbfc-bdf8179a7d73"
      },
      "source": [
        "import matplotlib.pyplot as plt\n",
        "fig = plt.figure()\n",
        "ax = fig.add_axes([1,1,2.5,2.5])\n",
        "ax.set_title('Evaluated Marks for Machine learning Answers')\n",
        "answer = ['answer',\n",
        "          'Corr1', 'Corr2', 'Corr3', 'Corr4', 'Corr5','Corr6', 'Corr7', 'Corr8', 'Corr9', 'Corr10',\n",
        "          'rel1', 'rel2', 'rel3', 'rel4', 'rel5','rel6', 'rel7', 'rel8', 'rel9', 'rel10',\n",
        "          'wrng1', 'wrng2', 'wrng3', 'wrng4', 'wrng5'\n",
        "\n",
        "          ]\n",
        "scores = final_score_ml\n",
        "ax.bar(answer,scores)\n",
        "plt.show()"
      ],
      "execution_count": 70,
      "outputs": [
        {
          "output_type": "display_data",
          "data": {
            "image/png": "[encoded data removed]",
            "text/plain": [
              "<Figure size 432x288 with 1 Axes>"
            ]
          },
          "metadata": {
            "tags": [],
            "needs_background": "light"
          }
        }
      ]
    },
    {
      "cell_type": "code",
      "metadata": {
        "colab": {
          "base_uri": "https://localhost:8080/"
        },
        "id": "Z-p087wKqGRQ",
        "outputId": "08703090-a927-4892-dbf7-dca49b59e188"
      },
      "source": [
        "final_score_java = (0.2 * (np.array(skill_score_java)/100)) + (0.8 * np.array(bert_score_java))\n",
        "final_score_java"
      ],
      "execution_count": 104,
      "outputs": [
        {
          "output_type": "execute_result",
          "data": {
            "text/plain": [
              "array([1.  , 0.74, 0.58, 0.55, 0.7 , 0.71, 0.69, 0.7 , 0.59, 0.67, 0.73,\n",
              "       0.63, 0.56, 0.39, 0.45, 0.53, 0.44, 0.64, 0.57, 0.35, 0.48, 0.08,\n",
              "       0.14, 0.25, 0.04, 0.24])"
            ]
          },
          "metadata": {
            "tags": []
          },
          "execution_count": 104
        }
      ]
    },
    {
      "cell_type": "code",
      "metadata": {
        "id": "EJZq51T1tLRh"
      },
      "source": [
        "# [1.  , 0.68, 0.68, 0.67, 0.66, 0.62, 0.59, 0.66, 0.68, 0.63, 0.51,\n",
        "#        0.47, 0.4 , 0.57, 0.28, 0.43, 0.48, 0.45, 0.36, 0.33, 0.44, 0.09,\n",
        "#        0.22, 0.22, 0.1 , 0.24]"
      ],
      "execution_count": 72,
      "outputs": []
    },
    {
      "cell_type": "code",
      "metadata": {
        "colab": {
          "base_uri": "https://localhost:8080/"
        },
        "id": "4sR7bmyzqEGF",
        "outputId": "29e747d1-c343-47c7-9bc1-b9e58957508f"
      },
      "source": [
        "import numpy as np\n",
        "np.average([0.04, 0.23, 0.15, 0.09, 0.06])"
      ],
      "execution_count": 73,
      "outputs": [
        {
          "output_type": "execute_result",
          "data": {
            "text/plain": [
              "0.11400000000000002"
            ]
          },
          "metadata": {
            "tags": []
          },
          "execution_count": 73
        }
      ]
    },
    {
      "cell_type": "code",
      "metadata": {
        "colab": {
          "base_uri": "https://localhost:8080/",
          "height": 715
        },
        "id": "4yzVcRlUqqxW",
        "outputId": "a52c18fb-c17a-456f-bdd1-f968c65d1de6"
      },
      "source": [
        "import matplotlib.pyplot as plt\n",
        "fig = plt.figure()\n",
        "ax = fig.add_axes([1,1,2.5,2.5])\n",
        "ax.set_title('Evaluated Marks for Finance Answers')\n",
        "answer = ['answer',\n",
        "          'Corr1', 'Corr2', 'Corr3', 'Corr4', 'Corr5','Corr6', 'Corr7', 'Corr8', 'Corr9', 'Corr10',\n",
        "          'rel1', 'rel2', 'rel3', 'rel4', 'rel5','rel6', 'rel7', 'rel8', 'rel9', 'rel10',\n",
        "          'wrng1', 'wrng2', 'wrng3', 'wrng4', 'wrng5'\n",
        "\n",
        "          ]\n",
        "scores = final_score_java\n",
        "ax.bar(answer,scores)\n",
        "plt.show()"
      ],
      "execution_count": 105,
      "outputs": [
        {
          "output_type": "display_data",
          "data": {
            "image/png": "[encoded data removed]",
            "text/plain": [
              "<Figure size 432x288 with 1 Axes>"
            ]
          },
          "metadata": {
            "tags": [],
            "needs_background": "light"
          }
        }
      ]
    },
    {
      "cell_type": "markdown",
      "metadata": {
        "id": "QwABG0Yy3om3"
      },
      "source": [
        "### Trying to improve the model performance V1.1.0"
      ]
    },
    {
      "cell_type": "code",
      "metadata": {
        "id": "6yzu43efh8EB",
        "colab": {
          "base_uri": "https://localhost:8080/"
        },
        "outputId": "02ec5093-17b8-4b8f-bfd7-ddf860856444"
      },
      "source": [
        "!pip install -U sentence-transformers"
      ],
      "execution_count": 6,
      "outputs": [
        {
          "output_type": "stream",
          "text": [
            "Processing /root/.cache/pip/wheels/fc/89/43/f2f5bc00b03ef9724b0f6254a97eaf159a4c4ddc024b33e07a/sentence_transformers-0.3.9-cp36-none-any.whl\n",
            "Requirement already satisfied, skipping upgrade: numpy in /usr/local/lib/python3.6/dist-packages (from sentence-transformers) (1.18.5)\n",
            "Requirement already satisfied, skipping upgrade: scikit-learn in /usr/local/lib/python3.6/dist-packages (from sentence-transformers) (0.22.2.post1)\n",
            "Requirement already satisfied, skipping upgrade: scipy in /usr/local/lib/python3.6/dist-packages (from sentence-transformers) (1.4.1)\n",
            "Requirement already satisfied, skipping upgrade: tqdm in /usr/local/lib/python3.6/dist-packages (from sentence-transformers) (4.41.1)\n",
            "Requirement already satisfied, skipping upgrade: nltk in /usr/local/lib/python3.6/dist-packages (from sentence-transformers) (3.2.5)\n",
            "Requirement already satisfied, skipping upgrade: torch>=1.6.0 in /usr/local/lib/python3.6/dist-packages (from sentence-transformers) (1.7.0+cu101)\n",
            "Requirement already satisfied, skipping upgrade: transformers<3.6.0,>=3.1.0 in /usr/local/lib/python3.6/dist-packages (from sentence-transformers) (3.5.1)\n",
            "Requirement already satisfied, skipping upgrade: joblib>=0.11 in /usr/local/lib/python3.6/dist-packages (from scikit-learn->sentence-transformers) (0.17.0)\n",
            "Requirement already satisfied, skipping upgrade: six in /usr/local/lib/python3.6/dist-packages (from nltk->sentence-transformers) (1.15.0)\n",
            "Requirement already satisfied, skipping upgrade: future in /usr/local/lib/python3.6/dist-packages (from torch>=1.6.0->sentence-transformers) (0.16.0)\n",
            "Requirement already satisfied, skipping upgrade: dataclasses in /usr/local/lib/python3.6/dist-packages (from torch>=1.6.0->sentence-transformers) (0.8)\n",
            "Requirement already satisfied, skipping upgrade: typing-extensions in /usr/local/lib/python3.6/dist-packages (from torch>=1.6.0->sentence-transformers) (3.7.4.3)\n",
            "Requirement already satisfied, skipping upgrade: protobuf in /usr/local/lib/python3.6/dist-packages (from transformers<3.6.0,>=3.1.0->sentence-transformers) (3.12.4)\n",
            "Requirement already satisfied, skipping upgrade: sacremoses in /usr/local/lib/python3.6/dist-packages (from transformers<3.6.0,>=3.1.0->sentence-transformers) (0.0.43)\n",
            "Requirement already satisfied, skipping upgrade: filelock in /usr/local/lib/python3.6/dist-packages (from transformers<3.6.0,>=3.1.0->sentence-transformers) (3.0.12)\n",
            "Requirement already satisfied, skipping upgrade: regex!=2019.12.17 in /usr/local/lib/python3.6/dist-packages (from transformers<3.6.0,>=3.1.0->sentence-transformers) (2019.12.20)\n",
            "Requirement already satisfied, skipping upgrade: tokenizers==0.9.3 in /usr/local/lib/python3.6/dist-packages (from transformers<3.6.0,>=3.1.0->sentence-transformers) (0.9.3)\n",
            "Requirement already satisfied, skipping upgrade: sentencepiece==0.1.91 in /usr/local/lib/python3.6/dist-packages (from transformers<3.6.0,>=3.1.0->sentence-transformers) (0.1.91)\n",
            "Requirement already satisfied, skipping upgrade: requests in /usr/local/lib/python3.6/dist-packages (from transformers<3.6.0,>=3.1.0->sentence-transformers) (2.23.0)\n",
            "Requirement already satisfied, skipping upgrade: packaging in /usr/local/lib/python3.6/dist-packages (from transformers<3.6.0,>=3.1.0->sentence-transformers) (20.4)\n",
            "Requirement already satisfied, skipping upgrade: setuptools in /usr/local/lib/python3.6/dist-packages (from protobuf->transformers<3.6.0,>=3.1.0->sentence-transformers) (50.3.2)\n",
            "Requirement already satisfied, skipping upgrade: click in /usr/local/lib/python3.6/dist-packages (from sacremoses->transformers<3.6.0,>=3.1.0->sentence-transformers) (7.1.2)\n",
            "Requirement already satisfied, skipping upgrade: chardet<4,>=3.0.2 in /usr/local/lib/python3.6/dist-packages (from requests->transformers<3.6.0,>=3.1.0->sentence-transformers) (3.0.4)\n",
            "Requirement already satisfied, skipping upgrade: urllib3!=1.25.0,!=1.25.1,<1.26,>=1.21.1 in /usr/local/lib/python3.6/dist-packages (from requests->transformers<3.6.0,>=3.1.0->sentence-transformers) (1.24.3)\n",
            "Requirement already satisfied, skipping upgrade: idna<3,>=2.5 in /usr/local/lib/python3.6/dist-packages (from requests->transformers<3.6.0,>=3.1.0->sentence-transformers) (2.10)\n",
            "Requirement already satisfied, skipping upgrade: certifi>=2017.4.17 in /usr/local/lib/python3.6/dist-packages (from requests->transformers<3.6.0,>=3.1.0->sentence-transformers) (2020.11.8)\n",
            "Requirement already satisfied, skipping upgrade: pyparsing>=2.0.2 in /usr/local/lib/python3.6/dist-packages (from packaging->transformers<3.6.0,>=3.1.0->sentence-transformers) (2.4.7)\n",
            "Installing collected packages: sentence-transformers\n",
            "  Found existing installation: sentence-transformers 0.2.0\n",
            "    Uninstalling sentence-transformers-0.2.0:\n",
            "      Successfully uninstalled sentence-transformers-0.2.0\n",
            "Successfully installed sentence-transformers-0.3.9\n"
          ],
          "name": "stdout"
        }
      ]
    },
    {
      "cell_type": "code",
      "metadata": {
        "id": "aIBeoYZcDo52"
      },
      "source": [
        ""
      ],
      "execution_count": 6,
      "outputs": []
    },
    {
      "cell_type": "code",
      "metadata": {
        "id": "2YzE1taRB1dP"
      },
      "source": [
        "from sentence_transformers import SentenceTransformer\n",
        "model = SentenceTransformer('bert-base-nli-mean-tokens')"
      ],
      "execution_count": 7,
      "outputs": []
    },
    {
      "cell_type": "code",
      "metadata": {
        "id": "AlXlmQfnB5vw"
      },
      "source": [
        "sentences = ['This framework generates embeddings for each input sentence',\n",
        "    'Sentences are passed as a list of string.', \n",
        "    'The quick brown fox jumps over the lazy dog.']\n",
        "sentence_embeddings = model.encode(sentences)"
      ],
      "execution_count": 8,
      "outputs": []
    },
    {
      "cell_type": "code",
      "metadata": {
        "colab": {
          "base_uri": "https://localhost:8080/"
        },
        "id": "IIVzdyAeCgjr",
        "outputId": "9cb04fbe-5c4a-4f33-e721-29cb98dde81c"
      },
      "source": [
        "sentence_embeddings.shape"
      ],
      "execution_count": 9,
      "outputs": [
        {
          "output_type": "execute_result",
          "data": {
            "text/plain": [
              "(3, 768)"
            ]
          },
          "metadata": {
            "tags": []
          },
          "execution_count": 9
        }
      ]
    },
    {
      "cell_type": "markdown",
      "metadata": {
        "id": "VliWg-IeDJNk"
      },
      "source": [
        "#### Model Training from scratch"
      ]
    },
    {
      "cell_type": "code",
      "metadata": {
        "id": "4cdVXxIeDp06"
      },
      "source": [
        "from sentence_transformers import models"
      ],
      "execution_count": 10,
      "outputs": []
    },
    {
      "cell_type": "code",
      "metadata": {
        "id": "5s5AYoisClxc"
      },
      "source": [
        "model = SentenceTransformer('bert-base-nli-mean-tokens')"
      ],
      "execution_count": 12,
      "outputs": []
    },
    {
      "cell_type": "code",
      "metadata": {
        "id": "oEAhkXrfC23v"
      },
      "source": [
        ""
      ],
      "execution_count": null,
      "outputs": []
    },
    {
      "cell_type": "code",
      "metadata": {
        "id": "jL_g9YB9C27f"
      },
      "source": [
        ""
      ],
      "execution_count": null,
      "outputs": []
    },
    {
      "cell_type": "code",
      "metadata": {
        "id": "Wlw9uL6fC2-1"
      },
      "source": [
        ""
      ],
      "execution_count": null,
      "outputs": []
    },
    {
      "cell_type": "code",
      "metadata": {
        "id": "FjMRT9uQC3CZ"
      },
      "source": [
        ""
      ],
      "execution_count": null,
      "outputs": []
    },
    {
      "cell_type": "markdown",
      "metadata": {
        "id": "4P4JebtGanso"
      },
      "source": [
        "### Plotting Normal Distribution"
      ]
    },
    {
      "cell_type": "code",
      "metadata": {
        "colab": {
          "base_uri": "https://localhost:8080/"
        },
        "id": "zwBX2UKkarlx",
        "outputId": "85a309be-60ee-4d1a-e918-1134aed4b8a9"
      },
      "source": [
        "#Correct\n",
        "data_c = [0.6 , 0.6 , 0.6 , 0.63, 0.58, 0.72, \n",
        "        0.68, 0.68, 0.67, 0.66, 0.62, 0.59, 0.66, 0.68, 0.63, 0.51,\n",
        "        0.52, 0.4 , 0.58, 0.68, 0.64, 0.52, 0.47, 0.71, 0.62, 0.54,\n",
        "        0.74, 0.58, 0.55, 0.7 , 0.71, 0.69, 0.7 , 0.59, 0.67, 0.73\n",
        "        ]\n",
        "len(data_c)"
      ],
      "execution_count": 106,
      "outputs": [
        {
          "output_type": "execute_result",
          "data": {
            "text/plain": [
              "36"
            ]
          },
          "metadata": {
            "tags": []
          },
          "execution_count": 106
        }
      ]
    },
    {
      "cell_type": "code",
      "metadata": {
        "id": "uUWLRd_OhEK5"
      },
      "source": [
        "# data_c"
      ],
      "execution_count": 127,
      "outputs": []
    },
    {
      "cell_type": "code",
      "metadata": {
        "colab": {
          "base_uri": "https://localhost:8080/",
          "height": 265
        },
        "id": "C1PvPGJpgmIw",
        "outputId": "ff3e794f-a288-431b-ae0c-06ade565978e"
      },
      "source": [
        "import numpy as np\n",
        "import scipy.stats as stats\n",
        "import pylab as pl\n",
        "\n",
        "h = sorted(data_c)  #sorted\n",
        "\n",
        "fit = stats.norm.pdf(h, np.mean(h), np.std(h))  #this is a fitting indeed\n",
        "\n",
        "pl.plot(h,fit,'-o')\n",
        "\n",
        "pl.hist(h,density=True)      #use this to draw histogram of your data\n",
        "\n",
        "pl.show()"
      ],
      "execution_count": 126,
      "outputs": [
        {
          "output_type": "display_data",
          "data": {
            "image/png": "[encoded data removed]",
            "text/plain": [
              "<Figure size 432x288 with 1 Axes>"
            ]
          },
          "metadata": {
            "tags": [],
            "needs_background": "light"
          }
        }
      ]
    },
    {
      "cell_type": "code",
      "metadata": {
        "colab": {
          "base_uri": "https://localhost:8080/"
        },
        "id": "6arLGsi5atOe",
        "outputId": "cc34e2ac-b369-48be-8b94-49db03c65579"
      },
      "source": [
        "#Related\n",
        "data_r = [0.55, 0.33, 0.3 , 0.49, 0.36, 0.42,\n",
        "        0.47, 0.4 , 0.57, 0.28, 0.43, 0.48, 0.45, 0.36, 0.33, 0.44,\n",
        "        0.5 , 0.36, 0.47, 0.44, 0.54, 0.58, 0.54, 0.48, 0.4 , 0.39,\n",
        "        0.63, 0.56, 0.39, 0.45, 0.53, 0.44, 0.64, 0.57, 0.35, 0.48\n",
        "        ]\n",
        "len(data_r)"
      ],
      "execution_count": 107,
      "outputs": [
        {
          "output_type": "execute_result",
          "data": {
            "text/plain": [
              "36"
            ]
          },
          "metadata": {
            "tags": []
          },
          "execution_count": 107
        }
      ]
    },
    {
      "cell_type": "code",
      "metadata": {
        "colab": {
          "base_uri": "https://localhost:8080/",
          "height": 265
        },
        "id": "_r8w-K5MiBBX",
        "outputId": "fd331563-c4d8-4395-f5fe-f0e32c09c372"
      },
      "source": [
        "import numpy as np\n",
        "import scipy.stats as stats\n",
        "import pylab as pl\n",
        "\n",
        "h = sorted(data_r)  #sorted\n",
        "\n",
        "fit = stats.norm.pdf(h, np.mean(h), np.std(h))  #this is a fitting indeed\n",
        "\n",
        "pl.plot(h,fit,'-o')\n",
        "\n",
        "pl.hist(h,density=True)      #use this to draw histogram of your data\n",
        "\n",
        "pl.show()                   #use may also need add this "
      ],
      "execution_count": 123,
      "outputs": [
        {
          "output_type": "display_data",
          "data": {
            "image/png": "[encoded data removed]",
            "text/plain": [
              "<Figure size 432x288 with 1 Axes>"
            ]
          },
          "metadata": {
            "tags": [],
            "needs_background": "light"
          }
        }
      ]
    },
    {
      "cell_type": "code",
      "metadata": {
        "id": "aeXJ45l7hf6y"
      },
      "source": [
        "# # importig pyplot as plt \n",
        "# import matplotlib.pyplot as plt\n",
        "\n",
        "# # plotting histograph \n",
        "# plt.hist(data_r, bins = 10) \n",
        "  \n",
        "# # showing hte graph \n",
        "# plt.show() "
      ],
      "execution_count": 124,
      "outputs": []
    },
    {
      "cell_type": "code",
      "metadata": {
        "colab": {
          "base_uri": "https://localhost:8080/"
        },
        "id": "m0dj0rBZatSf",
        "outputId": "7231049f-5c1a-43d2-a509-daa969438eca"
      },
      "source": [
        "#Incorrect\n",
        "data_i = [0.04, 0.23, 0.15, 0.09, 0.06, \n",
        "        0.09, 0.22, 0.22, 0.1 , 0.24,\n",
        "        0.08, 0.21, 0.18, 0.07, 0.14,\n",
        "        0.08, 0.14, 0.25, 0.04, 0.24\n",
        "        ]\n",
        "len(data_i)"
      ],
      "execution_count": 108,
      "outputs": [
        {
          "output_type": "execute_result",
          "data": {
            "text/plain": [
              "20"
            ]
          },
          "metadata": {
            "tags": []
          },
          "execution_count": 108
        }
      ]
    },
    {
      "cell_type": "code",
      "metadata": {
        "colab": {
          "base_uri": "https://localhost:8080/",
          "height": 269
        },
        "id": "AIjWtR1lgjTT",
        "outputId": "90ddfaf9-ed34-4627-cb8e-3d4ffc065fd1"
      },
      "source": [
        "import numpy as np\n",
        "import scipy.stats as stats\n",
        "import pylab as pl\n",
        "\n",
        "h = sorted(data_i)  #sorted\n",
        "\n",
        "fit = stats.norm.pdf(h, np.mean(h), np.std(h))  #this is a fitting indeed\n",
        "\n",
        "pl.plot(h,fit,'-o')\n",
        "\n",
        "pl.hist(h,density=True)      #use this to draw histogram of your data\n",
        "\n",
        "pl.show()"
      ],
      "execution_count": 125,
      "outputs": [
        {
          "output_type": "display_data",
          "data": {
            "image/png": "[encoded data removed]",
            "text/plain": [
              "<Figure size 432x288 with 1 Axes>"
            ]
          },
          "metadata": {
            "tags": [],
            "needs_background": "light"
          }
        }
      ]
    },
    {
      "cell_type": "code",
      "metadata": {
        "id": "YI6c2IPihlOP"
      },
      "source": [
        ""
      ],
      "execution_count": null,
      "outputs": []
    }
  ]
}